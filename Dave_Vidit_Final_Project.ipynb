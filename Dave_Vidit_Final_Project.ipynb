{
 "cells": [
  {
   "cell_type": "markdown",
   "metadata": {},
   "source": [
    "# Vidit Dave Final Project (USC ID: 7547192056)\n",
    "# Git Username: Vidit631"
   ]
  },
  {
   "cell_type": "code",
   "execution_count": 1,
   "metadata": {
    "_cell_guid": "b1076dfc-b9ad-4769-8c92-a6c4dae69d19",
    "_uuid": "8f2839f25d086af736a60e9eeb907d3b93b6e0e5",
    "execution": {
     "iopub.execute_input": "2023-12-11T01:51:56.276741Z",
     "iopub.status.busy": "2023-12-11T01:51:56.276459Z",
     "iopub.status.idle": "2023-12-11T01:52:20.820387Z",
     "shell.execute_reply": "2023-12-11T01:52:20.819614Z",
     "shell.execute_reply.started": "2023-12-11T01:51:56.276711Z"
    }
   },
   "outputs": [
    {
     "name": "stdout",
     "output_type": "stream",
     "text": [
      "Collecting scikit-image\n",
      "  Downloading scikit_image-0.22.0-cp310-cp310-manylinux_2_17_x86_64.manylinux2014_x86_64.whl (14.7 MB)\n",
      "\u001b[2K     \u001b[90m━━━━━━━━━━━━━━━━━━━━━━━━━━━━━━━━━━━━━━━━\u001b[0m \u001b[32m14.7/14.7 MB\u001b[0m \u001b[31m33.0 MB/s\u001b[0m eta \u001b[36m0:00:00\u001b[0m00:01\u001b[0m00:01\u001b[0m\n",
      "\u001b[?25hRequirement already satisfied: scipy>=1.8 in /usr/local/lib/python3.10/site-packages (from scikit-image) (1.11.4)\n",
      "Requirement already satisfied: packaging>=21 in /usr/local/lib/python3.10/site-packages (from scikit-image) (23.2)\n",
      "Collecting imageio>=2.27\n",
      "  Downloading imageio-2.33.0-py3-none-any.whl (313 kB)\n",
      "\u001b[2K     \u001b[90m━━━━━━━━━━━━━━━━━━━━━━━━━━━━━━━━━━━━━━\u001b[0m \u001b[32m313.3/313.3 kB\u001b[0m \u001b[31m18.8 MB/s\u001b[0m eta \u001b[36m0:00:00\u001b[0m\n",
      "\u001b[?25hRequirement already satisfied: numpy>=1.22 in /usr/local/lib/python3.10/site-packages (from scikit-image) (1.26.2)\n",
      "Requirement already satisfied: pillow>=9.0.1 in /usr/local/lib/python3.10/site-packages (from scikit-image) (10.1.0)\n",
      "Collecting tifffile>=2022.8.12\n",
      "  Downloading tifffile-2023.12.9-py3-none-any.whl (223 kB)\n",
      "\u001b[2K     \u001b[90m━━━━━━━━━━━━━━━━━━━━━━━━━━━━━━━━━━━━━━\u001b[0m \u001b[32m223.6/223.6 kB\u001b[0m \u001b[31m16.9 MB/s\u001b[0m eta \u001b[36m0:00:00\u001b[0m\n",
      "\u001b[?25hRequirement already satisfied: networkx>=2.8 in /usr/local/lib/python3.10/site-packages (from scikit-image) (3.2.1)\n",
      "Requirement already satisfied: lazy_loader>=0.3 in /usr/local/lib/python3.10/site-packages (from scikit-image) (0.3)\n",
      "Installing collected packages: tifffile, imageio, scikit-image\n",
      "Successfully installed imageio-2.33.0 scikit-image-0.22.0 tifffile-2023.12.9\n",
      "\u001b[33mWARNING: Running pip as the 'root' user can result in broken permissions and conflicting behaviour with the system package manager. It is recommended to use a virtual environment instead: https://pip.pypa.io/warnings/venv\u001b[0m\u001b[33m\n",
      "\u001b[0m\n",
      "\u001b[1m[\u001b[0m\u001b[34;49mnotice\u001b[0m\u001b[1;39;49m]\u001b[0m\u001b[39;49m A new release of pip is available: \u001b[0m\u001b[31;49m23.0.1\u001b[0m\u001b[39;49m -> \u001b[0m\u001b[32;49m23.3.1\u001b[0m\n",
      "\u001b[1m[\u001b[0m\u001b[34;49mnotice\u001b[0m\u001b[1;39;49m]\u001b[0m\u001b[39;49m To update, run: \u001b[0m\u001b[32;49mpip install --upgrade pip\u001b[0m\n"
     ]
    }
   ],
   "source": [
    "!pip install scikit-image\n",
    "import os\n",
    "import json\n",
    "from pathlib import Path\n",
    "import shutil\n",
    "import logging\n",
    "from sklearn.utils.class_weight import compute_class_weight\n",
    "import numpy as np\n",
    "from tqdm import tqdm\n",
    "from skimage import io\n",
    "import random\n",
    "import tensorflow as tf\n",
    "from PIL import Image\n",
    "from tensorflow.keras.callbacks import EarlyStopping, ModelCheckpoint\n",
    "import matplotlib.pyplot as plt\n",
    "from tensorflow.keras.models import Sequential\n",
    "from tensorflow.keras.layers import Conv2D, BatchNormalization, Dropout, Dense, Flatten, MaxPooling2D, GlobalAveragePooling2D, Activation, Layer\n",
    "from tensorflow.keras.regularizers import l2\n",
    "from tensorflow.keras.preprocessing.image import ImageDataGenerator\n",
    "from tensorflow.keras.applications import EfficientNetB0, ResNet50, VGG16\n",
    "from tensorflow.keras.optimizers import Adam\n",
    "from tensorflow.keras.losses import SparseCategoricalCrossentropy\n",
    "from sklearn.metrics import classification_report\n",
    "from tensorflow.keras import layers, models, regularizers"
   ]
  },
  {
   "cell_type": "markdown",
   "metadata": {},
   "source": [
    "# 1. Identification of Frost in Martian HiRISE Images"
   ]
  },
  {
   "cell_type": "code",
   "execution_count": 2,
   "metadata": {
    "execution": {
     "iopub.execute_input": "2023-12-11T01:52:20.822169Z",
     "iopub.status.busy": "2023-12-11T01:52:20.821723Z",
     "iopub.status.idle": "2023-12-11T01:52:20.885108Z",
     "shell.execute_reply": "2023-12-11T01:52:20.884448Z",
     "shell.execute_reply.started": "2023-12-11T01:52:20.822142Z"
    }
   },
   "outputs": [],
   "source": [
    "# Logging configuration\n",
    "logging.basicConfig(level=logging.INFO,\n",
    "                    datefmt='%H:%M:%S',\n",
    "                    format='%(asctime)s | %(levelname)-5s | %(module)-15s | %(message)s')\n",
    "\n",
    "IMAGE_SIZE = (299, 299)  # All images contained in this dataset are 299x299 (originally, to match Inception v3 input size)\n",
    "SEED = 17\n",
    "\n",
    "# Head directory containing all image subframes. Update with the relative path of your data directory\n",
    "data_head_dir = Path('/kaggle/input/mars-dataset/data')\n",
    "\n",
    "# Find all subframe directories\n",
    "subdirs = [Path(subdir.stem) for subdir in data_head_dir.iterdir() if subdir.is_dir()]\n",
    "src_image_ids = ['_'.join(a_path.name.split('_')[:3]) for a_path in subdirs]"
   ]
  },
  {
   "cell_type": "code",
   "execution_count": 3,
   "metadata": {
    "execution": {
     "iopub.execute_input": "2023-12-11T01:52:20.886115Z",
     "iopub.status.busy": "2023-12-11T01:52:20.885889Z",
     "iopub.status.idle": "2023-12-11T01:52:20.910397Z",
     "shell.execute_reply": "2023-12-11T01:52:20.909722Z",
     "shell.execute_reply.started": "2023-12-11T01:52:20.886091Z"
    }
   },
   "outputs": [],
   "source": [
    "# Load train/val/test subframe IDs\n",
    "def load_text_ids(file_path):\n",
    "    \"\"\"Simple helper to load all lines from a text file\"\"\"\n",
    "    with open(file_path, 'r') as f:\n",
    "        lines = [line.strip() for line in f.readlines()]\n",
    "    return lines\n",
    "\n",
    "# Load the subframe names for the three data subsets\n",
    "train_ids = load_text_ids('/kaggle/input/source/train_source_images.txt')\n",
    "validate_ids = load_text_ids('/kaggle/input/source/val_source_images.txt')\n",
    "test_ids = load_text_ids('/kaggle/input/source/test_source_images.txt')\n",
    "\n",
    "# Generate a list containing the dataset split for the matching subdirectory names\n",
    "subdir_splits = []\n",
    "for src_id in src_image_ids:\n",
    "    if src_id in train_ids:\n",
    "        subdir_splits.append('train')\n",
    "    elif src_id in validate_ids:\n",
    "        subdir_splits.append('validate')\n",
    "    elif(src_id in test_ids):\n",
    "        subdir_splits.append('test')\n",
    "    else:\n",
    "        logging.warning(f'{src_id}: Did not find designated split in train/validate/test list.')\n",
    "        subdir_splits.append(None)"
   ]
  },
  {
   "cell_type": "markdown",
   "metadata": {},
   "source": [
    "## 1(b) Loading and pre processing the data"
   ]
  },
  {
   "cell_type": "code",
   "execution_count": 4,
   "metadata": {
    "execution": {
     "iopub.execute_input": "2023-12-11T01:52:20.912265Z",
     "iopub.status.busy": "2023-12-11T01:52:20.912015Z",
     "iopub.status.idle": "2023-12-11T01:52:38.365166Z",
     "shell.execute_reply": "2023-12-11T01:52:38.364013Z",
     "shell.execute_reply.started": "2023-12-11T01:52:20.912241Z"
    }
   },
   "outputs": [
    {
     "name": "stderr",
     "output_type": "stream",
     "text": [
      "2023-12-11 01:52:38.127499: E ./tensorflow/compiler/xla/stream_executor/stream_executor_internal.h:124] SetPriority unimplemented for this stream.\n",
      "2023-12-11 01:52:38.127619: E ./tensorflow/compiler/xla/stream_executor/stream_executor_internal.h:124] SetPriority unimplemented for this stream.\n",
      "2023-12-11 01:52:38.127753: E ./tensorflow/compiler/xla/stream_executor/stream_executor_internal.h:124] SetPriority unimplemented for this stream.\n",
      "2023-12-11 01:52:38.127857: E ./tensorflow/compiler/xla/stream_executor/stream_executor_internal.h:124] SetPriority unimplemented for this stream.\n",
      "2023-12-11 01:52:38.127957: E ./tensorflow/compiler/xla/stream_executor/stream_executor_internal.h:124] SetPriority unimplemented for this stream.\n",
      "2023-12-11 01:52:38.128173: E ./tensorflow/compiler/xla/stream_executor/stream_executor_internal.h:124] SetPriority unimplemented for this stream.\n",
      "2023-12-11 01:52:38.128266: E ./tensorflow/compiler/xla/stream_executor/stream_executor_internal.h:124] SetPriority unimplemented for this stream.\n",
      "2023-12-11 01:52:38.128347: E ./tensorflow/compiler/xla/stream_executor/stream_executor_internal.h:124] SetPriority unimplemented for this stream.\n",
      "2023-12-11 01:52:38.128444: E ./tensorflow/compiler/xla/stream_executor/stream_executor_internal.h:124] SetPriority unimplemented for this stream.\n",
      "2023-12-11 01:52:38.128532: E ./tensorflow/compiler/xla/stream_executor/stream_executor_internal.h:124] SetPriority unimplemented for this stream.\n",
      "2023-12-11 01:52:38.128827: E ./tensorflow/compiler/xla/stream_executor/stream_executor_internal.h:124] SetPriority unimplemented for this stream.\n",
      "2023-12-11 01:52:38.128930: E ./tensorflow/compiler/xla/stream_executor/stream_executor_internal.h:124] SetPriority unimplemented for this stream.\n",
      "2023-12-11 01:52:38.129025: E ./tensorflow/compiler/xla/stream_executor/stream_executor_internal.h:124] SetPriority unimplemented for this stream.\n",
      "2023-12-11 01:52:38.129161: E ./tensorflow/compiler/xla/stream_executor/stream_executor_internal.h:124] SetPriority unimplemented for this stream.\n",
      "2023-12-11 01:52:38.129250: E ./tensorflow/compiler/xla/stream_executor/stream_executor_internal.h:124] SetPriority unimplemented for this stream.\n",
      "2023-12-11 01:52:38.129431: E ./tensorflow/compiler/xla/stream_executor/stream_executor_internal.h:124] SetPriority unimplemented for this stream.\n",
      "2023-12-11 01:52:38.129576: E ./tensorflow/compiler/xla/stream_executor/stream_executor_internal.h:124] SetPriority unimplemented for this stream.\n",
      "2023-12-11 01:52:38.129651: E ./tensorflow/compiler/xla/stream_executor/stream_executor_internal.h:124] SetPriority unimplemented for this stream.\n",
      "2023-12-11 01:52:38.129785: E ./tensorflow/compiler/xla/stream_executor/stream_executor_internal.h:124] SetPriority unimplemented for this stream.\n",
      "2023-12-11 01:52:38.129877: E ./tensorflow/compiler/xla/stream_executor/stream_executor_internal.h:124] SetPriority unimplemented for this stream.\n",
      "2023-12-11 01:52:38.130097: E ./tensorflow/compiler/xla/stream_executor/stream_executor_internal.h:124] SetPriority unimplemented for this stream.\n",
      "2023-12-11 01:52:38.130200: E ./tensorflow/compiler/xla/stream_executor/stream_executor_internal.h:124] SetPriority unimplemented for this stream.\n",
      "2023-12-11 01:52:38.130295: E ./tensorflow/compiler/xla/stream_executor/stream_executor_internal.h:124] SetPriority unimplemented for this stream.\n",
      "2023-12-11 01:52:38.130385: E ./tensorflow/compiler/xla/stream_executor/stream_executor_internal.h:124] SetPriority unimplemented for this stream.\n",
      "2023-12-11 01:52:38.130477: E ./tensorflow/compiler/xla/stream_executor/stream_executor_internal.h:124] SetPriority unimplemented for this stream.\n",
      "2023-12-11 01:52:38.130695: E ./tensorflow/compiler/xla/stream_executor/stream_executor_internal.h:124] SetPriority unimplemented for this stream.\n",
      "2023-12-11 01:52:38.130840: E ./tensorflow/compiler/xla/stream_executor/stream_executor_internal.h:124] SetPriority unimplemented for this stream.\n",
      "2023-12-11 01:52:38.130922: E ./tensorflow/compiler/xla/stream_executor/stream_executor_internal.h:124] SetPriority unimplemented for this stream.\n",
      "2023-12-11 01:52:38.131007: E ./tensorflow/compiler/xla/stream_executor/stream_executor_internal.h:124] SetPriority unimplemented for this stream.\n",
      "2023-12-11 01:52:38.131085: E ./tensorflow/compiler/xla/stream_executor/stream_executor_internal.h:124] SetPriority unimplemented for this stream.\n",
      "2023-12-11 01:52:38.131369: E ./tensorflow/compiler/xla/stream_executor/stream_executor_internal.h:124] SetPriority unimplemented for this stream.\n",
      "2023-12-11 01:52:38.131450: E ./tensorflow/compiler/xla/stream_executor/stream_executor_internal.h:124] SetPriority unimplemented for this stream.\n",
      "2023-12-11 01:52:38.131534: E ./tensorflow/compiler/xla/stream_executor/stream_executor_internal.h:124] SetPriority unimplemented for this stream.\n",
      "2023-12-11 01:52:38.131637: E ./tensorflow/compiler/xla/stream_executor/stream_executor_internal.h:124] SetPriority unimplemented for this stream.\n",
      "2023-12-11 01:52:38.131748: E ./tensorflow/compiler/xla/stream_executor/stream_executor_internal.h:124] SetPriority unimplemented for this stream.\n",
      "2023-12-11 01:52:38.132047: E ./tensorflow/compiler/xla/stream_executor/stream_executor_internal.h:124] SetPriority unimplemented for this stream.\n",
      "2023-12-11 01:52:38.132136: E ./tensorflow/compiler/xla/stream_executor/stream_executor_internal.h:124] SetPriority unimplemented for this stream.\n",
      "2023-12-11 01:52:38.132241: E ./tensorflow/compiler/xla/stream_executor/stream_executor_internal.h:124] SetPriority unimplemented for this stream.\n",
      "2023-12-11 01:52:38.132332: E ./tensorflow/compiler/xla/stream_executor/stream_executor_internal.h:124] SetPriority unimplemented for this stream.\n",
      "2023-12-11 01:52:38.132427: E ./tensorflow/compiler/xla/stream_executor/stream_executor_internal.h:124] SetPriority unimplemented for this stream.\n"
     ]
    }
   ],
   "source": [
    "# Correct the function name from '_inner_function' to 'inner_function'\n",
    "def load_and_preprocess(img_loc, label):\n",
    "    def inner_function(img_loc, label):\n",
    "        # Convert tensor to native type\n",
    "        img_loc_str = img_loc.numpy().decode('utf-8')\n",
    "        \n",
    "        # Load image using PIL and convert to RGB\n",
    "        img = Image.open(img_loc_str).convert('RGB')\n",
    "        \n",
    "        # Convert PIL image to numpy array\n",
    "        img = np.array(img)\n",
    "        img = tf.image.resize(img, [299, 299])\n",
    "        \n",
    "        # Normalize the image to the [0, 1] range\n",
    "        img = img / 255.0\n",
    "\n",
    "        # Convert label to integer (assuming binary classification)\n",
    "        label = 1 if label.numpy().decode('utf-8') == 'frost' else 0\n",
    "        \n",
    "        return img, label\n",
    "\n",
    "    # Wrap the Python function\n",
    "    X, y = tf.py_function(inner_function, [img_loc, label], [tf.float32, tf.int64])\n",
    "    \n",
    "    # Set the shape of the tensors\n",
    "    X.set_shape([299, 299, 3])\n",
    "    y.set_shape([])  # Scalar label\n",
    "    \n",
    "    return X, y\n",
    "\n",
    "def load_subdir_data(dir_path, image_size, seed=None):\n",
    "    \n",
    "    \"\"\"Helper to create a TF dataset from each image subdirectory\"\"\"\n",
    "    \n",
    "    # Grab only the classes that (1) we want to keep and (2) exist in this directory\n",
    "    tile_dir = dir_path / Path('tiles')\n",
    "    label_dir = dir_path /Path('labels')\n",
    "    \n",
    "    loc_list = []\n",
    "    \n",
    "    for folder in os.listdir(tile_dir):\n",
    "        if os.path.isdir(os.path.join(tile_dir, folder)):\n",
    "            for file in os.listdir(os.path.join(tile_dir, folder)):\n",
    "                if file.endswith(\".png\"):\n",
    "                    loc_list.append((os.path.join(os.path.join(tile_dir, folder), file), folder))\n",
    "\n",
    "    return loc_list\n",
    "\n",
    "# Loop over all subframes, loading each into a list\n",
    "tf_data_train, tf_data_test, tf_data_val = [], [], []\n",
    "tf_dataset_train, tf_dataset_test, tf_dataset_val = [], [], []\n",
    "\n",
    "# Update the batch and buffer size as per your model requirements\n",
    "buffer_size = 64\n",
    "batch_size = 32\n",
    "\n",
    "for subdir, split in zip(subdirs, subdir_splits):\n",
    "    full_path = data_head_dir / subdir\n",
    "    if split=='validate':\n",
    "        tf_data_val.extend(load_subdir_data(full_path, IMAGE_SIZE, SEED))\n",
    "    elif split=='train':\n",
    "        tf_data_train.extend(load_subdir_data(full_path, IMAGE_SIZE, SEED))\n",
    "    elif split=='test':\n",
    "        tf_data_test.extend(load_subdir_data(full_path, IMAGE_SIZE, SEED))\n",
    "        \n",
    "random.shuffle(tf_data_train)\n",
    "img_list, label_list = zip(*tf_data_train)\n",
    "img_list_t = tf.convert_to_tensor(img_list)\n",
    "lb_list_t = tf.convert_to_tensor(label_list)\n",
    "\n",
    "tf_dataset_train = tf.data.Dataset.from_tensor_slices((img_list_t, lb_list_t))\n",
    "tf_dataset_train = tf_dataset_train.map(load_and_preprocess, num_parallel_calls=tf.data.experimental.AUTOTUNE)\n",
    "tf_dataset_train = tf_dataset_train.shuffle(buffer_size=buffer_size).batch(batch_size) \n",
    "\n",
    "random.shuffle(tf_data_val)\n",
    "img_list, label_list = zip(*tf_data_val)\n",
    "img_list_t = tf.convert_to_tensor(img_list)\n",
    "lb_list_t = tf.convert_to_tensor(label_list)\n",
    "\n",
    "tf_dataset_val = tf.data.Dataset.from_tensor_slices((img_list_t, lb_list_t))\n",
    "tf_dataset_val = tf_dataset_val.map(load_and_preprocess, num_parallel_calls=tf.data.experimental.AUTOTUNE)\n",
    "tf_dataset_val = tf_dataset_val.shuffle(buffer_size=buffer_size).batch(batch_size) \n",
    "\n",
    "random.shuffle(tf_data_test)\n",
    "img_list, label_list = zip(*tf_data_test)\n",
    "img_list_t = tf.convert_to_tensor(img_list)\n",
    "lb_list_t = tf.convert_to_tensor(label_list)\n",
    "\n",
    "tf_dataset_test = tf.data.Dataset.from_tensor_slices((img_list_t, lb_list_t))\n",
    "tf_dataset_test = tf_dataset_test.map(load_and_preprocess, num_parallel_calls=tf.data.experimental.AUTOTUNE)\n",
    "tf_dataset_test = tf_dataset_test.shuffle(buffer_size=buffer_size).batch(batch_size) "
   ]
  },
  {
   "cell_type": "markdown",
   "metadata": {},
   "source": [
    "## 1(c) CNN + MLP"
   ]
  },
  {
   "cell_type": "code",
   "execution_count": 7,
   "metadata": {
    "execution": {
     "iopub.execute_input": "2023-12-10T21:08:28.290563Z",
     "iopub.status.busy": "2023-12-10T21:08:28.290137Z",
     "iopub.status.idle": "2023-12-10T21:08:28.417322Z",
     "shell.execute_reply": "2023-12-10T21:08:28.416425Z",
     "shell.execute_reply.started": "2023-12-10T21:08:28.290527Z"
    }
   },
   "outputs": [],
   "source": [
    "def image_augment(image, label):\n",
    "    # Apply augmentation techniques\n",
    "#     image = tf.image.random_flip_left_right(image)\n",
    "#     image = tf.image.random_flip_up_down(image)\n",
    "    image = tf.image.random_brightness(image, max_delta=0.2)\n",
    "    image = tf.image.random_contrast(image, lower=0.8, upper=1.2)\n",
    "    \n",
    "    # Randomly rotate the image by 0, 90, 180, or 270 degrees\n",
    "    rotations = tf.random.uniform(shape=[], minval=0, maxval=4, dtype=tf.int32)\n",
    "    image = tf.image.rot90(image, k=rotations)\n",
    "\n",
    "    return image, label\n",
    "\n",
    "# Ensure that the dataset is being augmented\n",
    "augmented_training_dataset = tf_dataset_train.map(image_augment, num_parallel_calls=tf.data.experimental.AUTOTUNE)"
   ]
  },
  {
   "cell_type": "code",
   "execution_count": 8,
   "metadata": {
    "execution": {
     "iopub.execute_input": "2023-12-10T21:10:16.204946Z",
     "iopub.status.busy": "2023-12-10T21:10:16.204541Z",
     "iopub.status.idle": "2023-12-10T21:50:10.786649Z",
     "shell.execute_reply": "2023-12-10T21:50:10.785678Z",
     "shell.execute_reply.started": "2023-12-10T21:10:16.204914Z"
    }
   },
   "outputs": [
    {
     "name": "stdout",
     "output_type": "stream",
     "text": [
      "INFO:tensorflow:Deallocate tpu buffers before initializing tpu system.\n"
     ]
    },
    {
     "name": "stderr",
     "output_type": "stream",
     "text": [
      "21:10:16 | INFO  | tpu_strategy_util | Deallocate tpu buffers before initializing tpu system.\n"
     ]
    },
    {
     "name": "stdout",
     "output_type": "stream",
     "text": [
      "INFO:tensorflow:Initializing the TPU system: local\n"
     ]
    },
    {
     "name": "stderr",
     "output_type": "stream",
     "text": [
      "21:10:16 | INFO  | tpu_strategy_util | Initializing the TPU system: local\n"
     ]
    },
    {
     "name": "stdout",
     "output_type": "stream",
     "text": [
      "INFO:tensorflow:Finished initializing TPU system.\n"
     ]
    },
    {
     "name": "stderr",
     "output_type": "stream",
     "text": [
      "21:10:20 | INFO  | tpu_strategy_util | Finished initializing TPU system.\n"
     ]
    },
    {
     "name": "stdout",
     "output_type": "stream",
     "text": [
      "INFO:tensorflow:Found TPU system:\n"
     ]
    },
    {
     "name": "stderr",
     "output_type": "stream",
     "text": [
      "21:10:20 | INFO  | tpu_system_metadata | Found TPU system:\n"
     ]
    },
    {
     "name": "stdout",
     "output_type": "stream",
     "text": [
      "INFO:tensorflow:*** Num TPU Cores: 8\n"
     ]
    },
    {
     "name": "stderr",
     "output_type": "stream",
     "text": [
      "21:10:20 | INFO  | tpu_system_metadata | *** Num TPU Cores: 8\n"
     ]
    },
    {
     "name": "stdout",
     "output_type": "stream",
     "text": [
      "INFO:tensorflow:*** Num TPU Workers: 1\n"
     ]
    },
    {
     "name": "stderr",
     "output_type": "stream",
     "text": [
      "21:10:20 | INFO  | tpu_system_metadata | *** Num TPU Workers: 1\n"
     ]
    },
    {
     "name": "stdout",
     "output_type": "stream",
     "text": [
      "INFO:tensorflow:*** Num TPU Cores Per Worker: 8\n"
     ]
    },
    {
     "name": "stderr",
     "output_type": "stream",
     "text": [
      "21:10:20 | INFO  | tpu_system_metadata | *** Num TPU Cores Per Worker: 8\n"
     ]
    },
    {
     "name": "stdout",
     "output_type": "stream",
     "text": [
      "INFO:tensorflow:*** Available Device: _DeviceAttributes(/job:localhost/replica:0/task:0/device:CPU:0, CPU, 0, 0)\n"
     ]
    },
    {
     "name": "stderr",
     "output_type": "stream",
     "text": [
      "21:10:20 | INFO  | tpu_system_metadata | *** Available Device: _DeviceAttributes(/job:localhost/replica:0/task:0/device:CPU:0, CPU, 0, 0)\n"
     ]
    },
    {
     "name": "stdout",
     "output_type": "stream",
     "text": [
      "INFO:tensorflow:*** Available Device: _DeviceAttributes(/job:localhost/replica:0/task:0/device:TPU:0, TPU, 0, 0)\n"
     ]
    },
    {
     "name": "stderr",
     "output_type": "stream",
     "text": [
      "21:10:20 | INFO  | tpu_system_metadata | *** Available Device: _DeviceAttributes(/job:localhost/replica:0/task:0/device:TPU:0, TPU, 0, 0)\n"
     ]
    },
    {
     "name": "stdout",
     "output_type": "stream",
     "text": [
      "INFO:tensorflow:*** Available Device: _DeviceAttributes(/job:localhost/replica:0/task:0/device:TPU:1, TPU, 0, 0)\n"
     ]
    },
    {
     "name": "stderr",
     "output_type": "stream",
     "text": [
      "21:10:20 | INFO  | tpu_system_metadata | *** Available Device: _DeviceAttributes(/job:localhost/replica:0/task:0/device:TPU:1, TPU, 0, 0)\n"
     ]
    },
    {
     "name": "stdout",
     "output_type": "stream",
     "text": [
      "INFO:tensorflow:*** Available Device: _DeviceAttributes(/job:localhost/replica:0/task:0/device:TPU:2, TPU, 0, 0)\n"
     ]
    },
    {
     "name": "stderr",
     "output_type": "stream",
     "text": [
      "21:10:20 | INFO  | tpu_system_metadata | *** Available Device: _DeviceAttributes(/job:localhost/replica:0/task:0/device:TPU:2, TPU, 0, 0)\n"
     ]
    },
    {
     "name": "stdout",
     "output_type": "stream",
     "text": [
      "INFO:tensorflow:*** Available Device: _DeviceAttributes(/job:localhost/replica:0/task:0/device:TPU:3, TPU, 0, 0)\n"
     ]
    },
    {
     "name": "stderr",
     "output_type": "stream",
     "text": [
      "21:10:20 | INFO  | tpu_system_metadata | *** Available Device: _DeviceAttributes(/job:localhost/replica:0/task:0/device:TPU:3, TPU, 0, 0)\n"
     ]
    },
    {
     "name": "stdout",
     "output_type": "stream",
     "text": [
      "INFO:tensorflow:*** Available Device: _DeviceAttributes(/job:localhost/replica:0/task:0/device:TPU:4, TPU, 0, 0)\n"
     ]
    },
    {
     "name": "stderr",
     "output_type": "stream",
     "text": [
      "21:10:20 | INFO  | tpu_system_metadata | *** Available Device: _DeviceAttributes(/job:localhost/replica:0/task:0/device:TPU:4, TPU, 0, 0)\n"
     ]
    },
    {
     "name": "stdout",
     "output_type": "stream",
     "text": [
      "INFO:tensorflow:*** Available Device: _DeviceAttributes(/job:localhost/replica:0/task:0/device:TPU:5, TPU, 0, 0)\n"
     ]
    },
    {
     "name": "stderr",
     "output_type": "stream",
     "text": [
      "21:10:20 | INFO  | tpu_system_metadata | *** Available Device: _DeviceAttributes(/job:localhost/replica:0/task:0/device:TPU:5, TPU, 0, 0)\n"
     ]
    },
    {
     "name": "stdout",
     "output_type": "stream",
     "text": [
      "INFO:tensorflow:*** Available Device: _DeviceAttributes(/job:localhost/replica:0/task:0/device:TPU:6, TPU, 0, 0)\n"
     ]
    },
    {
     "name": "stderr",
     "output_type": "stream",
     "text": [
      "21:10:20 | INFO  | tpu_system_metadata | *** Available Device: _DeviceAttributes(/job:localhost/replica:0/task:0/device:TPU:6, TPU, 0, 0)\n"
     ]
    },
    {
     "name": "stdout",
     "output_type": "stream",
     "text": [
      "INFO:tensorflow:*** Available Device: _DeviceAttributes(/job:localhost/replica:0/task:0/device:TPU:7, TPU, 0, 0)\n"
     ]
    },
    {
     "name": "stderr",
     "output_type": "stream",
     "text": [
      "21:10:20 | INFO  | tpu_system_metadata | *** Available Device: _DeviceAttributes(/job:localhost/replica:0/task:0/device:TPU:7, TPU, 0, 0)\n"
     ]
    },
    {
     "name": "stdout",
     "output_type": "stream",
     "text": [
      "INFO:tensorflow:*** Available Device: _DeviceAttributes(/job:localhost/replica:0/task:0/device:TPU_SYSTEM:0, TPU_SYSTEM, 0, 0)\n"
     ]
    },
    {
     "name": "stderr",
     "output_type": "stream",
     "text": [
      "21:10:20 | INFO  | tpu_system_metadata | *** Available Device: _DeviceAttributes(/job:localhost/replica:0/task:0/device:TPU_SYSTEM:0, TPU_SYSTEM, 0, 0)\n",
      "2023-12-10 21:10:21.255731: E ./tensorflow/compiler/xla/stream_executor/stream_executor_internal.h:124] SetPriority unimplemented for this stream.\n",
      "2023-12-10 21:10:21.255871: E ./tensorflow/compiler/xla/stream_executor/stream_executor_internal.h:124] SetPriority unimplemented for this stream.\n",
      "2023-12-10 21:10:23.368308: E ./tensorflow/compiler/xla/stream_executor/stream_executor_internal.h:124] SetPriority unimplemented for this stream.\n",
      "2023-12-10 21:10:23.386470: E ./tensorflow/compiler/xla/stream_executor/stream_executor_internal.h:124] SetPriority unimplemented for this stream.\n",
      "2023-12-10 21:10:23.404341: E ./tensorflow/compiler/xla/stream_executor/stream_executor_internal.h:124] SetPriority unimplemented for this stream.\n",
      "2023-12-10 21:10:23.421410: E ./tensorflow/compiler/xla/stream_executor/stream_executor_internal.h:124] SetPriority unimplemented for this stream.\n",
      "2023-12-10 21:10:23.438699: E ./tensorflow/compiler/xla/stream_executor/stream_executor_internal.h:124] SetPriority unimplemented for this stream.\n",
      "2023-12-10 21:10:23.456163: E ./tensorflow/compiler/xla/stream_executor/stream_executor_internal.h:124] SetPriority unimplemented for this stream.\n",
      "2023-12-10 21:10:23.474088: E ./tensorflow/compiler/xla/stream_executor/stream_executor_internal.h:124] SetPriority unimplemented for this stream.\n"
     ]
    },
    {
     "name": "stdout",
     "output_type": "stream",
     "text": [
      "Epoch 1/20\n"
     ]
    },
    {
     "name": "stderr",
     "output_type": "stream",
     "text": [
      "21:10:24 | INFO  | tpu             | TPU has inputs with dynamic shapes: [<tf.Tensor 'Const:0' shape=() dtype=int32>, ((<tf.Tensor 'cond/Identity:0' shape=(None, 299, 299, 3) dtype=float32>, <tf.Tensor 'cond/Identity_8:0' shape=(None,) dtype=int64>),), {}]\n",
      "21:10:25 | INFO  | tpu             | TPU has inputs with dynamic shapes: [<tf.Tensor 'Const:0' shape=() dtype=int32>, ((<tf.Tensor 'cond/Identity:0' shape=(None, 299, 299, 3) dtype=float32>, <tf.Tensor 'cond/Identity_8:0' shape=(None,) dtype=int64>),), {}]\n",
      "2023-12-10 21:10:26.799701: E tensorflow/core/grappler/optimizers/meta_optimizer.cc:961] model_pruner failed: INVALID_ARGUMENT: Graph does not contain terminal node Adam/AssignAddVariableOp.\n",
      "2023-12-10 21:10:27.806638: E ./tensorflow/compiler/xla/stream_executor/stream_executor_internal.h:124] SetPriority unimplemented for this stream.\n",
      "2023-12-10 21:10:27.809972: E ./tensorflow/compiler/xla/stream_executor/stream_executor_internal.h:124] SetPriority unimplemented for this stream.\n",
      "2023-12-10 21:10:27.810092: E ./tensorflow/compiler/xla/stream_executor/stream_executor_internal.h:124] SetPriority unimplemented for this stream.\n",
      "2023-12-10 21:10:27.810763: E ./tensorflow/compiler/xla/stream_executor/stream_executor_internal.h:124] SetPriority unimplemented for this stream.\n",
      "2023-12-10 21:10:27.811345: E ./tensorflow/compiler/xla/stream_executor/stream_executor_internal.h:124] SetPriority unimplemented for this stream.\n"
     ]
    },
    {
     "name": "stdout",
     "output_type": "stream",
     "text": [
      "  2/928 [..............................] - ETA: 1:23 - loss: 5.5916 - accuracy: 0.5938   "
     ]
    },
    {
     "name": "stderr",
     "output_type": "stream",
     "text": [
      "2023-12-10 21:10:59.392661: E ./tensorflow/compiler/xla/stream_executor/stream_executor_internal.h:124] SetPriority unimplemented for this stream.\n",
      "2023-12-10 21:10:59.392783: E ./tensorflow/compiler/xla/stream_executor/stream_executor_internal.h:124] SetPriority unimplemented for this stream.\n",
      "2023-12-10 21:10:59.392889: E ./tensorflow/compiler/xla/stream_executor/stream_executor_internal.h:124] SetPriority unimplemented for this stream.\n",
      "2023-12-10 21:10:59.392983: E ./tensorflow/compiler/xla/stream_executor/stream_executor_internal.h:124] SetPriority unimplemented for this stream.\n",
      "2023-12-10 21:10:59.393111: E ./tensorflow/compiler/xla/stream_executor/stream_executor_internal.h:124] SetPriority unimplemented for this stream.\n",
      "2023-12-10 21:10:59.393236: E ./tensorflow/compiler/xla/stream_executor/stream_executor_internal.h:124] SetPriority unimplemented for this stream.\n",
      "2023-12-10 21:10:59.393321: E ./tensorflow/compiler/xla/stream_executor/stream_executor_internal.h:124] SetPriority unimplemented for this stream.\n",
      "2023-12-10 21:10:59.400878: E ./tensorflow/compiler/xla/stream_executor/stream_executor_internal.h:124] SetPriority unimplemented for this stream.\n",
      "2023-12-10 21:10:59.450677: E ./tensorflow/compiler/xla/stream_executor/stream_executor_internal.h:124] SetPriority unimplemented for this stream.\n",
      "2023-12-10 21:10:59.539346: E ./tensorflow/compiler/xla/stream_executor/stream_executor_internal.h:124] SetPriority unimplemented for this stream.\n"
     ]
    },
    {
     "name": "stdout",
     "output_type": "stream",
     "text": [
      " 60/928 [>.............................] - ETA: 1:15 - loss: 4.8560 - accuracy: 0.6125"
     ]
    },
    {
     "name": "stderr",
     "output_type": "stream",
     "text": [
      "2023-12-10 21:11:04.440531: E ./tensorflow/compiler/xla/stream_executor/stream_executor_internal.h:124] SetPriority unimplemented for this stream.\n",
      "2023-12-10 21:11:04.440771: E ./tensorflow/compiler/xla/stream_executor/stream_executor_internal.h:124] SetPriority unimplemented for this stream.\n",
      "2023-12-10 21:11:04.440912: E ./tensorflow/compiler/xla/stream_executor/stream_executor_internal.h:124] SetPriority unimplemented for this stream.\n"
     ]
    },
    {
     "name": "stdout",
     "output_type": "stream",
     "text": [
      "118/928 [==>...........................] - ETA: 1:10 - loss: 4.6978 - accuracy: 0.6311"
     ]
    },
    {
     "name": "stderr",
     "output_type": "stream",
     "text": [
      "2023-12-10 21:11:09.499886: E ./tensorflow/compiler/xla/stream_executor/stream_executor_internal.h:124] SetPriority unimplemented for this stream.\n",
      "2023-12-10 21:11:09.500026: E ./tensorflow/compiler/xla/stream_executor/stream_executor_internal.h:124] SetPriority unimplemented for this stream.\n",
      "2023-12-10 21:11:09.500238: E ./tensorflow/compiler/xla/stream_executor/stream_executor_internal.h:124] SetPriority unimplemented for this stream.\n"
     ]
    },
    {
     "name": "stdout",
     "output_type": "stream",
     "text": [
      "403/928 [============>.................] - ETA: 45s - loss: 4.5007 - accuracy: 0.6646"
     ]
    },
    {
     "name": "stderr",
     "output_type": "stream",
     "text": [
      "2023-12-10 21:11:34.501396: E ./tensorflow/compiler/xla/stream_executor/stream_executor_internal.h:124] SetPriority unimplemented for this stream.\n"
     ]
    },
    {
     "name": "stdout",
     "output_type": "stream",
     "text": [
      "677/928 [====================>.........] - ETA: 21s - loss: 4.4048 - accuracy: 0.6828"
     ]
    },
    {
     "name": "stderr",
     "output_type": "stream",
     "text": [
      "2023-12-10 21:11:58.435224: E ./tensorflow/compiler/xla/stream_executor/stream_executor_internal.h:124] SetPriority unimplemented for this stream.\n"
     ]
    },
    {
     "name": "stdout",
     "output_type": "stream",
     "text": [
      "928/928 [==============================] - ETA: 0s - loss: 4.3335 - accuracy: 0.6954"
     ]
    },
    {
     "name": "stderr",
     "output_type": "stream",
     "text": [
      "21:12:30 | INFO  | tpu             | TPU has inputs with dynamic shapes: [<tf.Tensor 'Const:0' shape=() dtype=int32>, ((<tf.Tensor 'cond/Identity:0' shape=(None, 299, 299, 3) dtype=float32>, <tf.Tensor 'cond/Identity_8:0' shape=(None,) dtype=int64>),), {}]\n",
      "2023-12-10 21:12:30.707904: E tensorflow/core/grappler/optimizers/meta_optimizer.cc:961] model_pruner failed: INVALID_ARGUMENT: Graph does not contain terminal node AssignAddVariableOp.\n"
     ]
    },
    {
     "name": "stdout",
     "output_type": "stream",
     "text": [
      "928/928 [==============================] - 164s 139ms/step - loss: 4.3335 - accuracy: 0.6954 - val_loss: 4.0047 - val_accuracy: 0.7804\n",
      "Epoch 2/20\n",
      "928/928 [==============================] - 116s 125ms/step - loss: 3.8846 - accuracy: 0.7454 - val_loss: 3.9442 - val_accuracy: 0.5999\n",
      "Epoch 3/20\n",
      "928/928 [==============================] - 116s 125ms/step - loss: 3.4861 - accuracy: 0.7723 - val_loss: 3.2746 - val_accuracy: 0.8127\n",
      "Epoch 4/20\n",
      "928/928 [==============================] - 116s 125ms/step - loss: 3.0888 - accuracy: 0.8059 - val_loss: 2.9709 - val_accuracy: 0.8007\n",
      "Epoch 5/20\n",
      "928/928 [==============================] - 116s 124ms/step - loss: 2.7237 - accuracy: 0.8228 - val_loss: 2.6879 - val_accuracy: 0.8157\n",
      "Epoch 6/20\n",
      "928/928 [==============================] - 117s 125ms/step - loss: 2.3975 - accuracy: 0.8376 - val_loss: 2.1633 - val_accuracy: 0.9121\n",
      "Epoch 7/20\n",
      "928/928 [==============================] - 116s 125ms/step - loss: 2.1207 - accuracy: 0.8478 - val_loss: 2.0155 - val_accuracy: 0.8798\n",
      "Epoch 8/20\n",
      "928/928 [==============================] - 117s 125ms/step - loss: 1.9138 - accuracy: 0.8582 - val_loss: 1.7904 - val_accuracy: 0.8942\n",
      "Epoch 9/20\n",
      "928/928 [==============================] - 117s 125ms/step - loss: 1.7614 - accuracy: 0.8676 - val_loss: 2.2663 - val_accuracy: 0.6785\n",
      "Epoch 10/20\n",
      "928/928 [==============================] - 116s 125ms/step - loss: 1.6506 - accuracy: 0.8734 - val_loss: 1.7881 - val_accuracy: 0.8203\n",
      "Epoch 11/20\n",
      "928/928 [==============================] - 116s 124ms/step - loss: 1.5659 - accuracy: 0.8847 - val_loss: 1.9878 - val_accuracy: 0.8168\n",
      "Epoch 12/20\n",
      "928/928 [==============================] - 116s 125ms/step - loss: 1.5121 - accuracy: 0.8849 - val_loss: 1.6561 - val_accuracy: 0.8190\n",
      "Epoch 13/20\n",
      "928/928 [==============================] - 117s 126ms/step - loss: 1.4506 - accuracy: 0.8949 - val_loss: 2.2377 - val_accuracy: 0.6567\n",
      "Epoch 14/20\n",
      "928/928 [==============================] - 116s 125ms/step - loss: 1.4047 - accuracy: 0.8994 - val_loss: 1.6808 - val_accuracy: 0.7888\n",
      "Epoch 15/20\n",
      "928/928 [==============================] - 116s 125ms/step - loss: 1.3605 - accuracy: 0.9034 - val_loss: 1.6482 - val_accuracy: 0.7913\n",
      "Epoch 16/20\n",
      "928/928 [==============================] - 117s 125ms/step - loss: 1.3269 - accuracy: 0.9087 - val_loss: 1.6035 - val_accuracy: 0.7926\n",
      "Epoch 17/20\n",
      "928/928 [==============================] - 116s 125ms/step - loss: 1.2912 - accuracy: 0.9120 - val_loss: 1.2942 - val_accuracy: 0.9086\n",
      "Epoch 18/20\n",
      "928/928 [==============================] - 117s 126ms/step - loss: 1.2621 - accuracy: 0.9165 - val_loss: 1.2929 - val_accuracy: 0.9051\n",
      "Epoch 19/20\n",
      "928/928 [==============================] - 117s 125ms/step - loss: 1.2371 - accuracy: 0.9203 - val_loss: 1.4771 - val_accuracy: 0.8133\n",
      "Epoch 20/20\n",
      "928/928 [==============================] - 116s 125ms/step - loss: 1.2094 - accuracy: 0.9227 - val_loss: 1.1470 - val_accuracy: 0.9467\n"
     ]
    }
   ],
   "source": [
    "tpu = tf.distribute.cluster_resolver.TPUClusterResolver()\n",
    "tf.config.experimental_connect_to_cluster(tpu)\n",
    "tf.tpu.experimental.initialize_tpu_system(tpu)\n",
    "tpu_strategy = tf.distribute.TPUStrategy(tpu)\n",
    "\n",
    "with tpu_strategy.scope():\n",
    "    cnn_classifier = Sequential([\n",
    "        Conv2D(filters=32, kernel_size=(3, 3), activation='relu', input_shape=(299, 299, 3), kernel_regularizer=l2(0.01)),\n",
    "        BatchNormalization(),\n",
    "        MaxPooling2D(pool_size=(2, 2)),\n",
    "\n",
    "        Conv2D(filters=64, kernel_size=(3, 3), activation='relu', kernel_regularizer=l2(0.01)),\n",
    "        BatchNormalization(),\n",
    "        MaxPooling2D(pool_size=(2, 2)),\n",
    "\n",
    "        Conv2D(filters=128, kernel_size=(3, 3), activation='relu', kernel_regularizer=l2(0.01)),\n",
    "        BatchNormalization(),\n",
    "        MaxPooling2D(pool_size=(2, 2)),\n",
    "        Dropout(0.2),\n",
    "\n",
    "        Flatten(),\n",
    "\n",
    "        Dense(128, activation='relu', kernel_regularizer=l2(0.01)),\n",
    "        Dropout(0.3),\n",
    "        Dense(2, activation='softmax')\n",
    "    ])\n",
    "\n",
    "adam_optimizer = tf.keras.optimizers.Adam(learning_rate=0.00001)\n",
    "cnn_classifier.compile(optimizer=adam_optimizer, loss='sparse_categorical_crossentropy', metrics=['accuracy'])\n",
    "\n",
    "stop_early = EarlyStopping(monitor='val_loss', patience=5)\n",
    "training_history = cnn_classifier.fit(augmented_training_dataset, epochs=20, validation_data=tf_dataset_val, \n",
    "                    callbacks=[stop_early])"
   ]
  },
  {
   "cell_type": "code",
   "execution_count": 10,
   "metadata": {
    "execution": {
     "iopub.execute_input": "2023-12-10T22:06:43.245408Z",
     "iopub.status.busy": "2023-12-10T22:06:43.245009Z",
     "iopub.status.idle": "2023-12-10T22:24:20.398056Z",
     "shell.execute_reply": "2023-12-10T22:24:20.396793Z",
     "shell.execute_reply.started": "2023-12-10T22:06:43.245377Z"
    }
   },
   "outputs": [],
   "source": [
    "from sklearn.metrics import classification_report\n",
    "def assess_performance(model, data, display_output=True):\n",
    "  actual_labels = []\n",
    "  predicted_labels = []\n",
    "  for images, labels in data:\n",
    "    predictions = model.predict(images, verbose=0)\n",
    "    actual_labels.extend(labels.numpy())\n",
    "    predicted_labels.extend(np.argmax(predictions, axis=1))\n",
    "\n",
    "  performance_report = classification_report(actual_labels, predicted_labels)\n",
    "  return performance_report\n",
    "\n",
    "report_train = assess_performance(cnn_classifier, tf_dataset_train)\n",
    "report_validation = assess_performance(cnn_classifier, tf_dataset_val)\n",
    "report_test = assess_performance(cnn_classifier, tf_dataset_test)"
   ]
  },
  {
   "cell_type": "code",
   "execution_count": 11,
   "metadata": {
    "execution": {
     "iopub.execute_input": "2023-12-10T22:24:20.400251Z",
     "iopub.status.busy": "2023-12-10T22:24:20.399868Z",
     "iopub.status.idle": "2023-12-10T22:24:20.686515Z",
     "shell.execute_reply": "2023-12-10T22:24:20.685606Z",
     "shell.execute_reply.started": "2023-12-10T22:24:20.400217Z"
    }
   },
   "outputs": [
    {
     "data": {
      "image/png": "[encoded data removed]",
      "text/plain": [
       "<Figure size 640x480 with 1 Axes>"
      ]
     },
     "metadata": {},
     "output_type": "display_data"
    }
   ],
   "source": [
    "plt.plot(training_history.history['loss'], label='Training Loss')\n",
    "plt.plot(training_history.history['val_loss'], label='Validation Loss')\n",
    "plt.xlabel('Epochs')\n",
    "plt.ylabel('Loss')\n",
    "plt.legend()\n",
    "plt.show()\n",
    "\n",
    "cnn_checkpoint = ModelCheckpoint('cnn_best_model.h5', monitor='val_loss', verbose=1, save_best_only=True, mode='min')"
   ]
  },
  {
   "cell_type": "code",
   "execution_count": 12,
   "metadata": {
    "execution": {
     "iopub.execute_input": "2023-12-10T22:25:20.917261Z",
     "iopub.status.busy": "2023-12-10T22:25:20.916254Z",
     "iopub.status.idle": "2023-12-10T22:25:20.921771Z",
     "shell.execute_reply": "2023-12-10T22:25:20.920842Z",
     "shell.execute_reply.started": "2023-12-10T22:25:20.917221Z"
    }
   },
   "outputs": [
    {
     "name": "stdout",
     "output_type": "stream",
     "text": [
      "              precision    recall  f1-score   support\n",
      "\n",
      "           0       0.92      0.87      0.89      4418\n",
      "           1       0.93      0.96      0.95      8405\n",
      "\n",
      "    accuracy                           0.93     12823\n",
      "   macro avg       0.92      0.91      0.92     12823\n",
      "weighted avg       0.93      0.93      0.93     12823\n",
      "\n"
     ]
    }
   ],
   "source": [
    "print(report_test)"
   ]
  },
  {
   "cell_type": "markdown",
   "metadata": {},
   "source": [
    "# 1(d) Transfer Learning"
   ]
  },
  {
   "cell_type": "code",
   "execution_count": 5,
   "metadata": {
    "execution": {
     "iopub.execute_input": "2023-12-11T01:52:38.366604Z",
     "iopub.status.busy": "2023-12-11T01:52:38.366353Z",
     "iopub.status.idle": "2023-12-11T01:52:38.372418Z",
     "shell.execute_reply": "2023-12-11T01:52:38.371622Z",
     "shell.execute_reply.started": "2023-12-11T01:52:38.366579Z"
    }
   },
   "outputs": [],
   "source": [
    "class CustomAugmentationLayer(Layer):\n",
    "    def __init__(self, **kwargs):\n",
    "        super().__init__(**kwargs)\n",
    "\n",
    "    def call(self, inputs, training=None):\n",
    "        if training:\n",
    "            # Apply augmentations only during training\n",
    "            inputs = tf.image.random_flip_left_right(inputs)\n",
    "            inputs = tf.image.random_flip_up_down(inputs)\n",
    "            inputs = tf.image.random_brightness(inputs, max_delta=0.2)\n",
    "            inputs = tf.image.random_contrast(inputs, lower=0.8, upper=0.9)\n",
    "            rotations = tf.random.uniform(shape=[], minval=0, maxval=4, dtype=tf.int32)\n",
    "            inputs = tf.image.rot90(inputs, k=rotations)\n",
    "        return inputs"
   ]
  },
  {
   "cell_type": "code",
   "execution_count": 6,
   "metadata": {
    "execution": {
     "iopub.execute_input": "2023-12-11T01:52:38.373485Z",
     "iopub.status.busy": "2023-12-11T01:52:38.373265Z",
     "iopub.status.idle": "2023-12-11T01:53:53.874210Z",
     "shell.execute_reply": "2023-12-11T01:53:53.873010Z",
     "shell.execute_reply.started": "2023-12-11T01:52:38.373462Z"
    }
   },
   "outputs": [],
   "source": [
    "true_labels = []\n",
    "for _, labels in tf_dataset_train:\n",
    "    true_labels.extend(labels.numpy())\n",
    "true_labels_array = np.array(true_labels)\n",
    "\n",
    "balanced_class_weights = compute_class_weight('balanced', classes=np.unique(true_labels_array), y=true_labels_array)\n",
    "weight_dictionary = {i: weight for i, weight in enumerate(balanced_class_weights)}"
   ]
  },
  {
   "cell_type": "markdown",
   "metadata": {},
   "source": [
    "# Efficient Net"
   ]
  },
  {
   "cell_type": "code",
   "execution_count": 7,
   "metadata": {
    "execution": {
     "iopub.execute_input": "2023-12-11T01:53:53.875892Z",
     "iopub.status.busy": "2023-12-11T01:53:53.875552Z",
     "iopub.status.idle": "2023-12-11T01:53:59.047632Z",
     "shell.execute_reply": "2023-12-11T01:53:59.046735Z",
     "shell.execute_reply.started": "2023-12-11T01:53:53.875858Z"
    }
   },
   "outputs": [
    {
     "name": "stdout",
     "output_type": "stream",
     "text": [
      "INFO:tensorflow:Deallocate tpu buffers before initializing tpu system.\n"
     ]
    },
    {
     "name": "stderr",
     "output_type": "stream",
     "text": [
      "01:53:53 | INFO  | tpu_strategy_util | Deallocate tpu buffers before initializing tpu system.\n"
     ]
    },
    {
     "name": "stdout",
     "output_type": "stream",
     "text": [
      "INFO:tensorflow:Initializing the TPU system: local\n"
     ]
    },
    {
     "name": "stderr",
     "output_type": "stream",
     "text": [
      "01:53:54 | INFO  | tpu_strategy_util | Initializing the TPU system: local\n"
     ]
    },
    {
     "name": "stdout",
     "output_type": "stream",
     "text": [
      "INFO:tensorflow:Finished initializing TPU system.\n"
     ]
    },
    {
     "name": "stderr",
     "output_type": "stream",
     "text": [
      "01:53:59 | INFO  | tpu_strategy_util | Finished initializing TPU system.\n"
     ]
    },
    {
     "name": "stdout",
     "output_type": "stream",
     "text": [
      "INFO:tensorflow:Found TPU system:\n"
     ]
    },
    {
     "name": "stderr",
     "output_type": "stream",
     "text": [
      "01:53:59 | INFO  | tpu_system_metadata | Found TPU system:\n"
     ]
    },
    {
     "name": "stdout",
     "output_type": "stream",
     "text": [
      "INFO:tensorflow:*** Num TPU Cores: 8\n"
     ]
    },
    {
     "name": "stderr",
     "output_type": "stream",
     "text": [
      "01:53:59 | INFO  | tpu_system_metadata | *** Num TPU Cores: 8\n"
     ]
    },
    {
     "name": "stdout",
     "output_type": "stream",
     "text": [
      "INFO:tensorflow:*** Num TPU Workers: 1\n"
     ]
    },
    {
     "name": "stderr",
     "output_type": "stream",
     "text": [
      "01:53:59 | INFO  | tpu_system_metadata | *** Num TPU Workers: 1\n"
     ]
    },
    {
     "name": "stdout",
     "output_type": "stream",
     "text": [
      "INFO:tensorflow:*** Num TPU Cores Per Worker: 8\n"
     ]
    },
    {
     "name": "stderr",
     "output_type": "stream",
     "text": [
      "01:53:59 | INFO  | tpu_system_metadata | *** Num TPU Cores Per Worker: 8\n"
     ]
    },
    {
     "name": "stdout",
     "output_type": "stream",
     "text": [
      "INFO:tensorflow:*** Available Device: _DeviceAttributes(/job:localhost/replica:0/task:0/device:CPU:0, CPU, 0, 0)\n"
     ]
    },
    {
     "name": "stderr",
     "output_type": "stream",
     "text": [
      "01:53:59 | INFO  | tpu_system_metadata | *** Available Device: _DeviceAttributes(/job:localhost/replica:0/task:0/device:CPU:0, CPU, 0, 0)\n"
     ]
    },
    {
     "name": "stdout",
     "output_type": "stream",
     "text": [
      "INFO:tensorflow:*** Available Device: _DeviceAttributes(/job:localhost/replica:0/task:0/device:TPU:0, TPU, 0, 0)\n"
     ]
    },
    {
     "name": "stderr",
     "output_type": "stream",
     "text": [
      "01:53:59 | INFO  | tpu_system_metadata | *** Available Device: _DeviceAttributes(/job:localhost/replica:0/task:0/device:TPU:0, TPU, 0, 0)\n"
     ]
    },
    {
     "name": "stdout",
     "output_type": "stream",
     "text": [
      "INFO:tensorflow:*** Available Device: _DeviceAttributes(/job:localhost/replica:0/task:0/device:TPU:1, TPU, 0, 0)\n"
     ]
    },
    {
     "name": "stderr",
     "output_type": "stream",
     "text": [
      "01:53:59 | INFO  | tpu_system_metadata | *** Available Device: _DeviceAttributes(/job:localhost/replica:0/task:0/device:TPU:1, TPU, 0, 0)\n"
     ]
    },
    {
     "name": "stdout",
     "output_type": "stream",
     "text": [
      "INFO:tensorflow:*** Available Device: _DeviceAttributes(/job:localhost/replica:0/task:0/device:TPU:2, TPU, 0, 0)\n"
     ]
    },
    {
     "name": "stderr",
     "output_type": "stream",
     "text": [
      "01:53:59 | INFO  | tpu_system_metadata | *** Available Device: _DeviceAttributes(/job:localhost/replica:0/task:0/device:TPU:2, TPU, 0, 0)\n"
     ]
    },
    {
     "name": "stdout",
     "output_type": "stream",
     "text": [
      "INFO:tensorflow:*** Available Device: _DeviceAttributes(/job:localhost/replica:0/task:0/device:TPU:3, TPU, 0, 0)\n"
     ]
    },
    {
     "name": "stderr",
     "output_type": "stream",
     "text": [
      "01:53:59 | INFO  | tpu_system_metadata | *** Available Device: _DeviceAttributes(/job:localhost/replica:0/task:0/device:TPU:3, TPU, 0, 0)\n"
     ]
    },
    {
     "name": "stdout",
     "output_type": "stream",
     "text": [
      "INFO:tensorflow:*** Available Device: _DeviceAttributes(/job:localhost/replica:0/task:0/device:TPU:4, TPU, 0, 0)\n"
     ]
    },
    {
     "name": "stderr",
     "output_type": "stream",
     "text": [
      "01:53:59 | INFO  | tpu_system_metadata | *** Available Device: _DeviceAttributes(/job:localhost/replica:0/task:0/device:TPU:4, TPU, 0, 0)\n"
     ]
    },
    {
     "name": "stdout",
     "output_type": "stream",
     "text": [
      "INFO:tensorflow:*** Available Device: _DeviceAttributes(/job:localhost/replica:0/task:0/device:TPU:5, TPU, 0, 0)\n"
     ]
    },
    {
     "name": "stderr",
     "output_type": "stream",
     "text": [
      "01:53:59 | INFO  | tpu_system_metadata | *** Available Device: _DeviceAttributes(/job:localhost/replica:0/task:0/device:TPU:5, TPU, 0, 0)\n"
     ]
    },
    {
     "name": "stdout",
     "output_type": "stream",
     "text": [
      "INFO:tensorflow:*** Available Device: _DeviceAttributes(/job:localhost/replica:0/task:0/device:TPU:6, TPU, 0, 0)\n"
     ]
    },
    {
     "name": "stderr",
     "output_type": "stream",
     "text": [
      "01:53:59 | INFO  | tpu_system_metadata | *** Available Device: _DeviceAttributes(/job:localhost/replica:0/task:0/device:TPU:6, TPU, 0, 0)\n"
     ]
    },
    {
     "name": "stdout",
     "output_type": "stream",
     "text": [
      "INFO:tensorflow:*** Available Device: _DeviceAttributes(/job:localhost/replica:0/task:0/device:TPU:7, TPU, 0, 0)\n"
     ]
    },
    {
     "name": "stderr",
     "output_type": "stream",
     "text": [
      "01:53:59 | INFO  | tpu_system_metadata | *** Available Device: _DeviceAttributes(/job:localhost/replica:0/task:0/device:TPU:7, TPU, 0, 0)\n"
     ]
    },
    {
     "name": "stdout",
     "output_type": "stream",
     "text": [
      "INFO:tensorflow:*** Available Device: _DeviceAttributes(/job:localhost/replica:0/task:0/device:TPU_SYSTEM:0, TPU_SYSTEM, 0, 0)\n"
     ]
    },
    {
     "name": "stderr",
     "output_type": "stream",
     "text": [
      "01:53:59 | INFO  | tpu_system_metadata | *** Available Device: _DeviceAttributes(/job:localhost/replica:0/task:0/device:TPU_SYSTEM:0, TPU_SYSTEM, 0, 0)\n"
     ]
    }
   ],
   "source": [
    "tpu = tf.distribute.cluster_resolver.TPUClusterResolver()\n",
    "tf.config.experimental_connect_to_cluster(tpu)\n",
    "tf.tpu.experimental.initialize_tpu_system(tpu)\n",
    "tpu_strategy = tf.distribute.TPUStrategy(tpu)"
   ]
  },
  {
   "cell_type": "code",
   "execution_count": 8,
   "metadata": {
    "execution": {
     "iopub.execute_input": "2023-12-11T01:53:59.049156Z",
     "iopub.status.busy": "2023-12-11T01:53:59.048867Z",
     "iopub.status.idle": "2023-12-11T02:14:53.133067Z",
     "shell.execute_reply": "2023-12-11T02:14:53.131975Z",
     "shell.execute_reply.started": "2023-12-11T01:53:59.049127Z"
    }
   },
   "outputs": [
    {
     "name": "stderr",
     "output_type": "stream",
     "text": [
      "2023-12-11 01:53:59.146554: E ./tensorflow/compiler/xla/stream_executor/stream_executor_internal.h:124] SetPriority unimplemented for this stream.\n",
      "2023-12-11 01:53:59.387404: E ./tensorflow/compiler/xla/stream_executor/stream_executor_internal.h:124] SetPriority unimplemented for this stream.\n"
     ]
    },
    {
     "name": "stdout",
     "output_type": "stream",
     "text": [
      "Downloading data from https://storage.googleapis.com/keras-applications/efficientnetb0_notop.h5\n",
      "16705208/16705208 [==============================] - 0s 0us/step\n"
     ]
    },
    {
     "name": "stderr",
     "output_type": "stream",
     "text": [
      "2023-12-11 01:54:12.587804: E ./tensorflow/compiler/xla/stream_executor/stream_executor_internal.h:124] SetPriority unimplemented for this stream.\n",
      "2023-12-11 01:54:12.588571: E ./tensorflow/compiler/xla/stream_executor/stream_executor_internal.h:124] SetPriority unimplemented for this stream.\n",
      "2023-12-11 01:54:12.589223: E ./tensorflow/compiler/xla/stream_executor/stream_executor_internal.h:124] SetPriority unimplemented for this stream.\n",
      "2023-12-11 01:54:12.589729: E ./tensorflow/compiler/xla/stream_executor/stream_executor_internal.h:124] SetPriority unimplemented for this stream.\n",
      "2023-12-11 01:54:12.590287: E ./tensorflow/compiler/xla/stream_executor/stream_executor_internal.h:124] SetPriority unimplemented for this stream.\n",
      "2023-12-11 01:54:12.591057: E ./tensorflow/compiler/xla/stream_executor/stream_executor_internal.h:124] SetPriority unimplemented for this stream.\n",
      "2023-12-11 01:54:12.591887: E ./tensorflow/compiler/xla/stream_executor/stream_executor_internal.h:124] SetPriority unimplemented for this stream.\n"
     ]
    },
    {
     "name": "stdout",
     "output_type": "stream",
     "text": [
      "Epoch 1/20\n"
     ]
    },
    {
     "name": "stderr",
     "output_type": "stream",
     "text": [
      "01:54:26 | INFO  | tpu             | TPU has inputs with dynamic shapes: [<tf.Tensor 'Const:0' shape=() dtype=int32>, ((<tf.Tensor 'cond/Identity:0' shape=(None, 299, 299, 3) dtype=float32>, <tf.Tensor 'cond/Identity_8:0' shape=(None,) dtype=int64>, <tf.Tensor 'cond/Identity_16:0' shape=(None,) dtype=float64>),), {}]\n",
      "01:54:32 | INFO  | tpu             | TPU has inputs with dynamic shapes: [<tf.Tensor 'Const:0' shape=() dtype=int32>, ((<tf.Tensor 'cond/Identity:0' shape=(None, 299, 299, 3) dtype=float32>, <tf.Tensor 'cond/Identity_8:0' shape=(None,) dtype=int64>, <tf.Tensor 'cond/Identity_16:0' shape=(None,) dtype=float64>),), {}]\n",
      "2023-12-11 01:54:37.463482: E tensorflow/core/grappler/optimizers/meta_optimizer.cc:961] model_pruner failed: INVALID_ARGUMENT: Graph does not contain terminal node Adam/AssignAddVariableOp.\n",
      "2023-12-11 01:54:39.070323: E ./tensorflow/compiler/xla/stream_executor/stream_executor_internal.h:124] SetPriority unimplemented for this stream.\n",
      "2023-12-11 01:54:39.073566: E ./tensorflow/compiler/xla/stream_executor/stream_executor_internal.h:124] SetPriority unimplemented for this stream.\n",
      "2023-12-11 01:54:39.073759: E ./tensorflow/compiler/xla/stream_executor/stream_executor_internal.h:124] SetPriority unimplemented for this stream.\n",
      "2023-12-11 01:54:39.073863: E ./tensorflow/compiler/xla/stream_executor/stream_executor_internal.h:124] SetPriority unimplemented for this stream.\n",
      "2023-12-11 01:54:39.074217: E ./tensorflow/compiler/xla/stream_executor/stream_executor_internal.h:124] SetPriority unimplemented for this stream.\n",
      "2023-12-11 01:54:39.074657: E ./tensorflow/compiler/xla/stream_executor/stream_executor_internal.h:124] SetPriority unimplemented for this stream.\n",
      "2023-12-11 01:54:39.075572: E ./tensorflow/compiler/xla/stream_executor/stream_executor_internal.h:124] SetPriority unimplemented for this stream.\n",
      "2023-12-11 01:54:39.081131: E ./tensorflow/compiler/xla/stream_executor/stream_executor_internal.h:124] SetPriority unimplemented for this stream.\n"
     ]
    },
    {
     "name": "stdout",
     "output_type": "stream",
     "text": [
      "  3/928 [..............................] - ETA: 1:06 - loss: 0.7905 - accuracy: 0.5417 "
     ]
    },
    {
     "name": "stderr",
     "output_type": "stream",
     "text": [
      "2023-12-11 01:54:50.564194: E ./tensorflow/compiler/xla/stream_executor/stream_executor_internal.h:124] SetPriority unimplemented for this stream.\n",
      "2023-12-11 01:54:50.564333: E ./tensorflow/compiler/xla/stream_executor/stream_executor_internal.h:124] SetPriority unimplemented for this stream.\n",
      "2023-12-11 01:54:50.564428: E ./tensorflow/compiler/xla/stream_executor/stream_executor_internal.h:124] SetPriority unimplemented for this stream.\n",
      "2023-12-11 01:54:50.564515: E ./tensorflow/compiler/xla/stream_executor/stream_executor_internal.h:124] SetPriority unimplemented for this stream.\n",
      "2023-12-11 01:54:50.564609: E ./tensorflow/compiler/xla/stream_executor/stream_executor_internal.h:124] SetPriority unimplemented for this stream.\n",
      "2023-12-11 01:54:50.564723: E ./tensorflow/compiler/xla/stream_executor/stream_executor_internal.h:124] SetPriority unimplemented for this stream.\n",
      "2023-12-11 01:54:50.564813: E ./tensorflow/compiler/xla/stream_executor/stream_executor_internal.h:124] SetPriority unimplemented for this stream.\n",
      "2023-12-11 01:54:50.564941: E ./tensorflow/compiler/xla/stream_executor/stream_executor_internal.h:124] SetPriority unimplemented for this stream.\n",
      "2023-12-11 01:54:50.606864: E ./tensorflow/compiler/xla/stream_executor/stream_executor_internal.h:124] SetPriority unimplemented for this stream.\n",
      "2023-12-11 01:54:50.607271: E ./tensorflow/compiler/xla/stream_executor/stream_executor_internal.h:124] SetPriority unimplemented for this stream.\n",
      "2023-12-11 01:54:50.697237: E ./tensorflow/compiler/xla/stream_executor/stream_executor_internal.h:124] SetPriority unimplemented for this stream.\n",
      "2023-12-11 01:54:50.697974: E ./tensorflow/compiler/xla/stream_executor/stream_executor_internal.h:124] SetPriority unimplemented for this stream.\n",
      "2023-12-11 01:54:50.698734: E ./tensorflow/compiler/xla/stream_executor/stream_executor_internal.h:124] SetPriority unimplemented for this stream.\n"
     ]
    },
    {
     "name": "stdout",
     "output_type": "stream",
     "text": [
      "  5/928 [..............................] - ETA: 1:18 - loss: 0.7644 - accuracy: 0.5500"
     ]
    },
    {
     "name": "stderr",
     "output_type": "stream",
     "text": [
      "2023-12-11 01:54:50.789229: E ./tensorflow/compiler/xla/stream_executor/stream_executor_internal.h:124] SetPriority unimplemented for this stream.\n",
      "2023-12-11 01:54:50.789341: E ./tensorflow/compiler/xla/stream_executor/stream_executor_internal.h:124] SetPriority unimplemented for this stream.\n",
      "2023-12-11 01:54:50.789485: E ./tensorflow/compiler/xla/stream_executor/stream_executor_internal.h:124] SetPriority unimplemented for this stream.\n"
     ]
    },
    {
     "name": "stdout",
     "output_type": "stream",
     "text": [
      "  8/928 [..............................] - ETA: 1:20 - loss: 0.8171 - accuracy: 0.5469"
     ]
    },
    {
     "name": "stderr",
     "output_type": "stream",
     "text": [
      "2023-12-11 01:54:51.061734: E ./tensorflow/compiler/xla/stream_executor/stream_executor_internal.h:124] SetPriority unimplemented for this stream.\n"
     ]
    },
    {
     "name": "stdout",
     "output_type": "stream",
     "text": [
      " 60/928 [>.............................] - ETA: 1:16 - loss: 0.8870 - accuracy: 0.5005"
     ]
    },
    {
     "name": "stderr",
     "output_type": "stream",
     "text": [
      "2023-12-11 01:54:55.644828: E ./tensorflow/compiler/xla/stream_executor/stream_executor_internal.h:124] SetPriority unimplemented for this stream.\n",
      "2023-12-11 01:54:55.645097: E ./tensorflow/compiler/xla/stream_executor/stream_executor_internal.h:124] SetPriority unimplemented for this stream.\n"
     ]
    },
    {
     "name": "stdout",
     "output_type": "stream",
     "text": [
      "396/928 [===========>..................] - ETA: 47s - loss: 0.8741 - accuracy: 0.4951"
     ]
    },
    {
     "name": "stderr",
     "output_type": "stream",
     "text": [
      "2023-12-11 01:55:25.627811: E ./tensorflow/compiler/xla/stream_executor/stream_executor_internal.h:124] SetPriority unimplemented for this stream.\n"
     ]
    },
    {
     "name": "stdout",
     "output_type": "stream",
     "text": [
      "739/928 [======================>.......] - ETA: 16s - loss: 0.8719 - accuracy: 0.4960"
     ]
    },
    {
     "name": "stderr",
     "output_type": "stream",
     "text": [
      "2023-12-11 01:55:55.701571: E ./tensorflow/compiler/xla/stream_executor/stream_executor_internal.h:124] SetPriority unimplemented for this stream.\n"
     ]
    },
    {
     "name": "stdout",
     "output_type": "stream",
     "text": [
      "928/928 [==============================] - ETA: 0s - loss: 0.8700 - accuracy: 0.4972"
     ]
    },
    {
     "name": "stderr",
     "output_type": "stream",
     "text": [
      "01:56:16 | INFO  | tpu             | TPU has inputs with dynamic shapes: [<tf.Tensor 'Const:0' shape=() dtype=int32>, ((<tf.Tensor 'cond/Identity:0' shape=(None, 299, 299, 3) dtype=float32>, <tf.Tensor 'cond/Identity_8:0' shape=(None,) dtype=int64>),), {}]\n",
      "2023-12-11 01:56:18.119010: E tensorflow/core/grappler/optimizers/meta_optimizer.cc:961] model_pruner failed: INVALID_ARGUMENT: Graph does not contain terminal node AssignAddVariableOp.\n"
     ]
    },
    {
     "name": "stdout",
     "output_type": "stream",
     "text": [
      "928/928 [==============================] - 160s 146ms/step - loss: 0.8700 - accuracy: 0.4972 - val_loss: 0.6543 - val_accuracy: 0.6782\n",
      "Epoch 2/20\n",
      " 50/928 [>.............................] - ETA: 2:18 - loss: 0.8145 - accuracy: 0.5150"
     ]
    },
    {
     "name": "stderr",
     "output_type": "stream",
     "text": [
      "2023-12-11 01:57:14.894854: E ./tensorflow/compiler/xla/stream_executor/stream_executor_internal.h:124] SetPriority unimplemented for this stream.\n"
     ]
    },
    {
     "name": "stdout",
     "output_type": "stream",
     "text": [
      "928/928 [==============================] - 118s 126ms/step - loss: 0.8590 - accuracy: 0.5015 - val_loss: 0.6552 - val_accuracy: 0.6782\n",
      "Epoch 3/20\n",
      "928/928 [==============================] - 117s 126ms/step - loss: 0.8602 - accuracy: 0.5002 - val_loss: 0.6564 - val_accuracy: 0.6782\n",
      "Epoch 4/20\n",
      " 84/928 [=>............................] - ETA: 2:08 - loss: 0.8482 - accuracy: 0.5026"
     ]
    },
    {
     "name": "stderr",
     "output_type": "stream",
     "text": [
      "2023-12-11 02:01:15.776971: E ./tensorflow/compiler/xla/stream_executor/stream_executor_internal.h:124] SetPriority unimplemented for this stream.\n"
     ]
    },
    {
     "name": "stdout",
     "output_type": "stream",
     "text": [
      "928/928 [==============================] - 117s 126ms/step - loss: 0.8546 - accuracy: 0.5034 - val_loss: 0.6576 - val_accuracy: 0.6782\n",
      "Epoch 5/20\n",
      "928/928 [==============================] - 118s 127ms/step - loss: 0.8584 - accuracy: 0.4988 - val_loss: 0.6539 - val_accuracy: 0.6782\n",
      "Epoch 6/20\n",
      "928/928 [==============================] - 118s 126ms/step - loss: 0.8535 - accuracy: 0.4988 - val_loss: 0.6564 - val_accuracy: 0.6782\n",
      "Epoch 7/20\n",
      "928/928 [==============================] - 118s 127ms/step - loss: 0.8475 - accuracy: 0.5015 - val_loss: 0.6603 - val_accuracy: 0.6782\n",
      "Epoch 8/20\n",
      "928/928 [==============================] - 117s 126ms/step - loss: 0.8493 - accuracy: 0.5019 - val_loss: 0.6597 - val_accuracy: 0.6782\n",
      "Epoch 9/20\n",
      "928/928 [==============================] - 118s 126ms/step - loss: 0.8489 - accuracy: 0.5028 - val_loss: 0.6600 - val_accuracy: 0.6782\n",
      "Epoch 10/20\n",
      "928/928 [==============================] - 122s 132ms/step - loss: 0.8494 - accuracy: 0.4996 - val_loss: 0.6592 - val_accuracy: 0.6782\n"
     ]
    }
   ],
   "source": [
    "with tpu_strategy.scope():\n",
    "    efficientnet_base = EfficientNetB0(include_top=False, input_shape=(299, 299, 3), weights='imagenet')\n",
    "    efficientnet_base.trainable = False\n",
    "\n",
    "    efficientnet_model = models.Sequential([\n",
    "        CustomAugmentationLayer(),\n",
    "        efficientnet_base,\n",
    "        layers.GlobalAveragePooling2D(),\n",
    "        layers.Dense(128, activation='relu'),\n",
    "        layers.BatchNormalization(),\n",
    "        layers.Dropout(0.3),\n",
    "        layers.Dense(2, activation='softmax')  # Assuming binary classification\n",
    "    ])\n",
    "\n",
    "fine_tune_optimizer = tf.keras.optimizers.Adam(learning_rate=0.00000001)\n",
    "efficientnet_model.compile(optimizer=fine_tune_optimizer,\n",
    "              loss='sparse_categorical_crossentropy',\n",
    "              metrics=['accuracy'])\n",
    "\n",
    "stop_early_callback = EarlyStopping(monitor='val_loss', patience=5, restore_best_weights=True)\n",
    "efficientnet_history = efficientnet_model.fit(tf_dataset_train, \n",
    "                    epochs=20, \n",
    "                    validation_data=tf_dataset_val,\n",
    "                    callbacks=[stop_early_callback],\n",
    "                    batch_size=8,\n",
    "                    class_weight=weight_dictionary)"
   ]
  },
  {
   "cell_type": "code",
   "execution_count": 9,
   "metadata": {
    "execution": {
     "iopub.execute_input": "2023-12-11T02:14:53.135810Z",
     "iopub.status.busy": "2023-12-11T02:14:53.135515Z",
     "iopub.status.idle": "2023-12-11T02:33:27.916772Z",
     "shell.execute_reply": "2023-12-11T02:33:27.915747Z",
     "shell.execute_reply.started": "2023-12-11T02:14:53.135781Z"
    }
   },
   "outputs": [
    {
     "name": "stderr",
     "output_type": "stream",
     "text": [
      "2023-12-11 02:14:55.839718: E tensorflow/core/grappler/optimizers/meta_optimizer.cc:961] model_pruner failed: INVALID_ARGUMENT: Graph does not contain terminal node AssignAddVariableOp.\n",
      "02:25:02 | INFO  | tpu             | TPU has inputs with dynamic shapes: [<tf.Tensor 'Const:0' shape=() dtype=int32>, (<tf.Tensor 'cond/Identity:0' shape=(None, 299, 299, 3) dtype=float32>,), {}]\n",
      "2023-12-11 02:25:04.061936: E tensorflow/core/grappler/optimizers/meta_optimizer.cc:961] model_pruner failed: INVALID_ARGUMENT: Graph does not contain terminal node AssignAddVariableOp.\n",
      "/usr/local/lib/python3.10/site-packages/sklearn/metrics/_classification.py:1471: UndefinedMetricWarning: Precision and F-score are ill-defined and being set to 0.0 in labels with no predicted samples. Use `zero_division` parameter to control this behavior.\n",
      "  _warn_prf(average, modifier, msg_start, len(result))\n",
      "/usr/local/lib/python3.10/site-packages/sklearn/metrics/_classification.py:1471: UndefinedMetricWarning: Precision and F-score are ill-defined and being set to 0.0 in labels with no predicted samples. Use `zero_division` parameter to control this behavior.\n",
      "  _warn_prf(average, modifier, msg_start, len(result))\n",
      "/usr/local/lib/python3.10/site-packages/sklearn/metrics/_classification.py:1471: UndefinedMetricWarning: Precision and F-score are ill-defined and being set to 0.0 in labels with no predicted samples. Use `zero_division` parameter to control this behavior.\n",
      "  _warn_prf(average, modifier, msg_start, len(result))\n",
      "/usr/local/lib/python3.10/site-packages/sklearn/metrics/_classification.py:1471: UndefinedMetricWarning: Precision and F-score are ill-defined and being set to 0.0 in labels with no predicted samples. Use `zero_division` parameter to control this behavior.\n",
      "  _warn_prf(average, modifier, msg_start, len(result))\n",
      "/usr/local/lib/python3.10/site-packages/sklearn/metrics/_classification.py:1471: UndefinedMetricWarning: Precision and F-score are ill-defined and being set to 0.0 in labels with no predicted samples. Use `zero_division` parameter to control this behavior.\n",
      "  _warn_prf(average, modifier, msg_start, len(result))\n",
      "/usr/local/lib/python3.10/site-packages/sklearn/metrics/_classification.py:1471: UndefinedMetricWarning: Precision and F-score are ill-defined and being set to 0.0 in labels with no predicted samples. Use `zero_division` parameter to control this behavior.\n",
      "  _warn_prf(average, modifier, msg_start, len(result))\n",
      "/usr/local/lib/python3.10/site-packages/sklearn/metrics/_classification.py:1471: UndefinedMetricWarning: Precision and F-score are ill-defined and being set to 0.0 in labels with no predicted samples. Use `zero_division` parameter to control this behavior.\n",
      "  _warn_prf(average, modifier, msg_start, len(result))\n",
      "/usr/local/lib/python3.10/site-packages/sklearn/metrics/_classification.py:1471: UndefinedMetricWarning: Precision and F-score are ill-defined and being set to 0.0 in labels with no predicted samples. Use `zero_division` parameter to control this behavior.\n",
      "  _warn_prf(average, modifier, msg_start, len(result))\n",
      "/usr/local/lib/python3.10/site-packages/sklearn/metrics/_classification.py:1471: UndefinedMetricWarning: Precision and F-score are ill-defined and being set to 0.0 in labels with no predicted samples. Use `zero_division` parameter to control this behavior.\n",
      "  _warn_prf(average, modifier, msg_start, len(result))\n"
     ]
    }
   ],
   "source": [
    "def assess_performance(model, data, display_output=True):\n",
    "  actual_labels = []\n",
    "  predicted_labels = []\n",
    "  for images, labels in data:\n",
    "    predictions = model.predict(images, verbose=0)\n",
    "    actual_labels.extend(labels.numpy())\n",
    "    predicted_labels.extend(np.argmax(predictions, axis=1))\n",
    "\n",
    "  performance_report = classification_report(actual_labels, predicted_labels)\n",
    "  return performance_report\n",
    "\n",
    "report_train = assess_performance(efficientnet_model, tf_dataset_train)\n",
    "report_validation = assess_performance(efficientnet_model, tf_dataset_val)\n",
    "report_test = assess_performance(efficientnet_model, tf_dataset_test)"
   ]
  },
  {
   "cell_type": "code",
   "execution_count": 10,
   "metadata": {
    "execution": {
     "iopub.execute_input": "2023-12-11T02:33:27.918205Z",
     "iopub.status.busy": "2023-12-11T02:33:27.917906Z",
     "iopub.status.idle": "2023-12-11T02:33:28.100036Z",
     "shell.execute_reply": "2023-12-11T02:33:28.099263Z",
     "shell.execute_reply.started": "2023-12-11T02:33:27.918174Z"
    }
   },
   "outputs": [
    {
     "data": {
      "image/png": "[encoded data removed]",
      "text/plain": [
       "<Figure size 640x480 with 1 Axes>"
      ]
     },
     "metadata": {},
     "output_type": "display_data"
    }
   ],
   "source": [
    "plt.plot(efficientnet_history.history['loss'], label='Training Loss')\n",
    "plt.plot(efficientnet_history.history['val_loss'], label='Validation Loss')\n",
    "plt.xlabel('Epochs')\n",
    "plt.ylabel('Loss')\n",
    "plt.legend()\n",
    "plt.show()\n",
    "\n",
    "efficientnet_checkpoint = ModelCheckpoint('efficientnet_best_model.h5', monitor='val_loss', verbose=1, save_best_only=True, mode='min')"
   ]
  },
  {
   "cell_type": "code",
   "execution_count": 11,
   "metadata": {
    "execution": {
     "iopub.execute_input": "2023-12-11T02:33:28.101346Z",
     "iopub.status.busy": "2023-12-11T02:33:28.101083Z",
     "iopub.status.idle": "2023-12-11T02:33:28.105686Z",
     "shell.execute_reply": "2023-12-11T02:33:28.105028Z",
     "shell.execute_reply.started": "2023-12-11T02:33:28.101319Z"
    }
   },
   "outputs": [
    {
     "name": "stdout",
     "output_type": "stream",
     "text": [
      "              precision    recall  f1-score   support\n",
      "\n",
      "           0       0.34      1.00      0.51      4418\n",
      "           1       0.00      0.00      0.00      8405\n",
      "\n",
      "    accuracy                           0.34     12823\n",
      "   macro avg       0.17      0.50      0.26     12823\n",
      "weighted avg       0.12      0.34      0.18     12823\n",
      "\n"
     ]
    }
   ],
   "source": [
    "print(report_test)"
   ]
  },
  {
   "cell_type": "markdown",
   "metadata": {},
   "source": [
    "# Resnet"
   ]
  },
  {
   "cell_type": "code",
   "execution_count": 7,
   "metadata": {
    "execution": {
     "iopub.execute_input": "2023-12-10T23:53:09.716883Z",
     "iopub.status.busy": "2023-12-10T23:53:09.716545Z",
     "iopub.status.idle": "2023-12-10T23:53:14.854106Z",
     "shell.execute_reply": "2023-12-10T23:53:14.853351Z",
     "shell.execute_reply.started": "2023-12-10T23:53:09.716851Z"
    }
   },
   "outputs": [
    {
     "name": "stdout",
     "output_type": "stream",
     "text": [
      "INFO:tensorflow:Deallocate tpu buffers before initializing tpu system.\n"
     ]
    },
    {
     "name": "stderr",
     "output_type": "stream",
     "text": [
      "23:53:09 | INFO  | tpu_strategy_util | Deallocate tpu buffers before initializing tpu system.\n"
     ]
    },
    {
     "name": "stdout",
     "output_type": "stream",
     "text": [
      "INFO:tensorflow:Initializing the TPU system: local\n"
     ]
    },
    {
     "name": "stderr",
     "output_type": "stream",
     "text": [
      "23:53:09 | INFO  | tpu_strategy_util | Initializing the TPU system: local\n"
     ]
    },
    {
     "name": "stdout",
     "output_type": "stream",
     "text": [
      "INFO:tensorflow:Finished initializing TPU system.\n"
     ]
    },
    {
     "name": "stderr",
     "output_type": "stream",
     "text": [
      "23:53:14 | INFO  | tpu_strategy_util | Finished initializing TPU system.\n"
     ]
    },
    {
     "name": "stdout",
     "output_type": "stream",
     "text": [
      "INFO:tensorflow:Found TPU system:\n"
     ]
    },
    {
     "name": "stderr",
     "output_type": "stream",
     "text": [
      "23:53:14 | INFO  | tpu_system_metadata | Found TPU system:\n"
     ]
    },
    {
     "name": "stdout",
     "output_type": "stream",
     "text": [
      "INFO:tensorflow:*** Num TPU Cores: 8\n"
     ]
    },
    {
     "name": "stderr",
     "output_type": "stream",
     "text": [
      "23:53:14 | INFO  | tpu_system_metadata | *** Num TPU Cores: 8\n"
     ]
    },
    {
     "name": "stdout",
     "output_type": "stream",
     "text": [
      "INFO:tensorflow:*** Num TPU Workers: 1\n"
     ]
    },
    {
     "name": "stderr",
     "output_type": "stream",
     "text": [
      "23:53:14 | INFO  | tpu_system_metadata | *** Num TPU Workers: 1\n"
     ]
    },
    {
     "name": "stdout",
     "output_type": "stream",
     "text": [
      "INFO:tensorflow:*** Num TPU Cores Per Worker: 8\n"
     ]
    },
    {
     "name": "stderr",
     "output_type": "stream",
     "text": [
      "23:53:14 | INFO  | tpu_system_metadata | *** Num TPU Cores Per Worker: 8\n"
     ]
    },
    {
     "name": "stdout",
     "output_type": "stream",
     "text": [
      "INFO:tensorflow:*** Available Device: _DeviceAttributes(/job:localhost/replica:0/task:0/device:CPU:0, CPU, 0, 0)\n"
     ]
    },
    {
     "name": "stderr",
     "output_type": "stream",
     "text": [
      "23:53:14 | INFO  | tpu_system_metadata | *** Available Device: _DeviceAttributes(/job:localhost/replica:0/task:0/device:CPU:0, CPU, 0, 0)\n"
     ]
    },
    {
     "name": "stdout",
     "output_type": "stream",
     "text": [
      "INFO:tensorflow:*** Available Device: _DeviceAttributes(/job:localhost/replica:0/task:0/device:TPU:0, TPU, 0, 0)\n"
     ]
    },
    {
     "name": "stderr",
     "output_type": "stream",
     "text": [
      "23:53:14 | INFO  | tpu_system_metadata | *** Available Device: _DeviceAttributes(/job:localhost/replica:0/task:0/device:TPU:0, TPU, 0, 0)\n"
     ]
    },
    {
     "name": "stdout",
     "output_type": "stream",
     "text": [
      "INFO:tensorflow:*** Available Device: _DeviceAttributes(/job:localhost/replica:0/task:0/device:TPU:1, TPU, 0, 0)\n"
     ]
    },
    {
     "name": "stderr",
     "output_type": "stream",
     "text": [
      "23:53:14 | INFO  | tpu_system_metadata | *** Available Device: _DeviceAttributes(/job:localhost/replica:0/task:0/device:TPU:1, TPU, 0, 0)\n"
     ]
    },
    {
     "name": "stdout",
     "output_type": "stream",
     "text": [
      "INFO:tensorflow:*** Available Device: _DeviceAttributes(/job:localhost/replica:0/task:0/device:TPU:2, TPU, 0, 0)\n"
     ]
    },
    {
     "name": "stderr",
     "output_type": "stream",
     "text": [
      "23:53:14 | INFO  | tpu_system_metadata | *** Available Device: _DeviceAttributes(/job:localhost/replica:0/task:0/device:TPU:2, TPU, 0, 0)\n"
     ]
    },
    {
     "name": "stdout",
     "output_type": "stream",
     "text": [
      "INFO:tensorflow:*** Available Device: _DeviceAttributes(/job:localhost/replica:0/task:0/device:TPU:3, TPU, 0, 0)\n"
     ]
    },
    {
     "name": "stderr",
     "output_type": "stream",
     "text": [
      "23:53:14 | INFO  | tpu_system_metadata | *** Available Device: _DeviceAttributes(/job:localhost/replica:0/task:0/device:TPU:3, TPU, 0, 0)\n"
     ]
    },
    {
     "name": "stdout",
     "output_type": "stream",
     "text": [
      "INFO:tensorflow:*** Available Device: _DeviceAttributes(/job:localhost/replica:0/task:0/device:TPU:4, TPU, 0, 0)\n"
     ]
    },
    {
     "name": "stderr",
     "output_type": "stream",
     "text": [
      "23:53:14 | INFO  | tpu_system_metadata | *** Available Device: _DeviceAttributes(/job:localhost/replica:0/task:0/device:TPU:4, TPU, 0, 0)\n"
     ]
    },
    {
     "name": "stdout",
     "output_type": "stream",
     "text": [
      "INFO:tensorflow:*** Available Device: _DeviceAttributes(/job:localhost/replica:0/task:0/device:TPU:5, TPU, 0, 0)\n"
     ]
    },
    {
     "name": "stderr",
     "output_type": "stream",
     "text": [
      "23:53:14 | INFO  | tpu_system_metadata | *** Available Device: _DeviceAttributes(/job:localhost/replica:0/task:0/device:TPU:5, TPU, 0, 0)\n"
     ]
    },
    {
     "name": "stdout",
     "output_type": "stream",
     "text": [
      "INFO:tensorflow:*** Available Device: _DeviceAttributes(/job:localhost/replica:0/task:0/device:TPU:6, TPU, 0, 0)\n"
     ]
    },
    {
     "name": "stderr",
     "output_type": "stream",
     "text": [
      "23:53:14 | INFO  | tpu_system_metadata | *** Available Device: _DeviceAttributes(/job:localhost/replica:0/task:0/device:TPU:6, TPU, 0, 0)\n"
     ]
    },
    {
     "name": "stdout",
     "output_type": "stream",
     "text": [
      "INFO:tensorflow:*** Available Device: _DeviceAttributes(/job:localhost/replica:0/task:0/device:TPU:7, TPU, 0, 0)\n"
     ]
    },
    {
     "name": "stderr",
     "output_type": "stream",
     "text": [
      "23:53:14 | INFO  | tpu_system_metadata | *** Available Device: _DeviceAttributes(/job:localhost/replica:0/task:0/device:TPU:7, TPU, 0, 0)\n"
     ]
    },
    {
     "name": "stdout",
     "output_type": "stream",
     "text": [
      "INFO:tensorflow:*** Available Device: _DeviceAttributes(/job:localhost/replica:0/task:0/device:TPU_SYSTEM:0, TPU_SYSTEM, 0, 0)\n"
     ]
    },
    {
     "name": "stderr",
     "output_type": "stream",
     "text": [
      "23:53:14 | INFO  | tpu_system_metadata | *** Available Device: _DeviceAttributes(/job:localhost/replica:0/task:0/device:TPU_SYSTEM:0, TPU_SYSTEM, 0, 0)\n"
     ]
    }
   ],
   "source": [
    "tpu = tf.distribute.cluster_resolver.TPUClusterResolver()\n",
    "tf.config.experimental_connect_to_cluster(tpu)\n",
    "tf.tpu.experimental.initialize_tpu_system(tpu)\n",
    "tpu_strategy = tf.distribute.TPUStrategy(tpu)"
   ]
  },
  {
   "cell_type": "code",
   "execution_count": 10,
   "metadata": {
    "execution": {
     "iopub.execute_input": "2023-12-10T23:55:32.260005Z",
     "iopub.status.busy": "2023-12-10T23:55:32.258759Z",
     "iopub.status.idle": "2023-12-11T00:35:31.153115Z",
     "shell.execute_reply": "2023-12-11T00:35:31.152145Z",
     "shell.execute_reply.started": "2023-12-10T23:55:32.259963Z"
    }
   },
   "outputs": [
    {
     "name": "stdout",
     "output_type": "stream",
     "text": [
      "Epoch 1/20\n"
     ]
    },
    {
     "name": "stderr",
     "output_type": "stream",
     "text": [
      "23:55:44 | INFO  | tpu             | TPU has inputs with dynamic shapes: [<tf.Tensor 'Const:0' shape=() dtype=int32>, ((<tf.Tensor 'cond/Identity:0' shape=(None, 299, 299, 3) dtype=float32>, <tf.Tensor 'cond/Identity_8:0' shape=(None,) dtype=int64>, <tf.Tensor 'cond/Identity_16:0' shape=(None,) dtype=float64>),), {}]\n",
      "23:55:48 | INFO  | tpu             | TPU has inputs with dynamic shapes: [<tf.Tensor 'Const:0' shape=() dtype=int32>, ((<tf.Tensor 'cond/Identity:0' shape=(None, 299, 299, 3) dtype=float32>, <tf.Tensor 'cond/Identity_8:0' shape=(None,) dtype=int64>, <tf.Tensor 'cond/Identity_16:0' shape=(None,) dtype=float64>),), {}]\n",
      "2023-12-10 23:55:50.757410: E tensorflow/core/grappler/optimizers/meta_optimizer.cc:961] model_pruner failed: INVALID_ARGUMENT: Graph does not contain terminal node Adam/AssignAddVariableOp.\n",
      "2023-12-10 23:55:51.982499: E ./tensorflow/compiler/xla/stream_executor/stream_executor_internal.h:124] SetPriority unimplemented for this stream.\n",
      "2023-12-10 23:55:51.985932: E ./tensorflow/compiler/xla/stream_executor/stream_executor_internal.h:124] SetPriority unimplemented for this stream.\n",
      "2023-12-10 23:55:51.986065: E ./tensorflow/compiler/xla/stream_executor/stream_executor_internal.h:124] SetPriority unimplemented for this stream.\n",
      "2023-12-10 23:55:51.986205: E ./tensorflow/compiler/xla/stream_executor/stream_executor_internal.h:124] SetPriority unimplemented for this stream.\n",
      "2023-12-10 23:55:51.986302: E ./tensorflow/compiler/xla/stream_executor/stream_executor_internal.h:124] SetPriority unimplemented for this stream.\n",
      "2023-12-10 23:55:51.987446: E ./tensorflow/compiler/xla/stream_executor/stream_executor_internal.h:124] SetPriority unimplemented for this stream.\n",
      "2023-12-10 23:55:51.988690: E ./tensorflow/compiler/xla/stream_executor/stream_executor_internal.h:124] SetPriority unimplemented for this stream.\n",
      "2023-12-10 23:55:51.992131: E ./tensorflow/compiler/xla/stream_executor/stream_executor_internal.h:124] SetPriority unimplemented for this stream.\n"
     ]
    },
    {
     "name": "stdout",
     "output_type": "stream",
     "text": [
      "  3/928 [..............................] - ETA: 1:10 - loss: 0.8355 - accuracy: 0.4375 "
     ]
    },
    {
     "name": "stderr",
     "output_type": "stream",
     "text": [
      "2023-12-10 23:56:05.706973: E ./tensorflow/compiler/xla/stream_executor/stream_executor_internal.h:124] SetPriority unimplemented for this stream.\n",
      "2023-12-10 23:56:05.707090: E ./tensorflow/compiler/xla/stream_executor/stream_executor_internal.h:124] SetPriority unimplemented for this stream.\n",
      "2023-12-10 23:56:05.707175: E ./tensorflow/compiler/xla/stream_executor/stream_executor_internal.h:124] SetPriority unimplemented for this stream.\n",
      "2023-12-10 23:56:05.707306: E ./tensorflow/compiler/xla/stream_executor/stream_executor_internal.h:124] SetPriority unimplemented for this stream.\n",
      "2023-12-10 23:56:05.707429: E ./tensorflow/compiler/xla/stream_executor/stream_executor_internal.h:124] SetPriority unimplemented for this stream.\n",
      "2023-12-10 23:56:05.707537: E ./tensorflow/compiler/xla/stream_executor/stream_executor_internal.h:124] SetPriority unimplemented for this stream.\n",
      "2023-12-10 23:56:05.707642: E ./tensorflow/compiler/xla/stream_executor/stream_executor_internal.h:124] SetPriority unimplemented for this stream.\n",
      "2023-12-10 23:56:05.707747: E ./tensorflow/compiler/xla/stream_executor/stream_executor_internal.h:124] SetPriority unimplemented for this stream.\n",
      "2023-12-10 23:56:05.767474: E ./tensorflow/compiler/xla/stream_executor/stream_executor_internal.h:124] SetPriority unimplemented for this stream.\n",
      "2023-12-10 23:56:05.767691: E ./tensorflow/compiler/xla/stream_executor/stream_executor_internal.h:124] SetPriority unimplemented for this stream.\n",
      "2023-12-10 23:56:05.768198: E ./tensorflow/compiler/xla/stream_executor/stream_executor_internal.h:124] SetPriority unimplemented for this stream.\n",
      "2023-12-10 23:56:05.768418: E ./tensorflow/compiler/xla/stream_executor/stream_executor_internal.h:124] SetPriority unimplemented for this stream.\n",
      "2023-12-10 23:56:05.768751: E ./tensorflow/compiler/xla/stream_executor/stream_executor_internal.h:124] SetPriority unimplemented for this stream.\n",
      "2023-12-10 23:56:05.859203: E ./tensorflow/compiler/xla/stream_executor/stream_executor_internal.h:124] SetPriority unimplemented for this stream.\n",
      "2023-12-10 23:56:05.859500: E ./tensorflow/compiler/xla/stream_executor/stream_executor_internal.h:124] SetPriority unimplemented for this stream.\n"
     ]
    },
    {
     "name": "stdout",
     "output_type": "stream",
     "text": [
      "  5/928 [..............................] - ETA: 1:15 - loss: 0.7923 - accuracy: 0.4563"
     ]
    },
    {
     "name": "stderr",
     "output_type": "stream",
     "text": [
      "2023-12-10 23:56:05.944204: E ./tensorflow/compiler/xla/stream_executor/stream_executor_internal.h:124] SetPriority unimplemented for this stream.\n"
     ]
    },
    {
     "name": "stdout",
     "output_type": "stream",
     "text": [
      " 59/928 [>.............................] - ETA: 1:15 - loss: 0.7326 - accuracy: 0.5270"
     ]
    },
    {
     "name": "stderr",
     "output_type": "stream",
     "text": [
      "2023-12-10 23:56:10.637896: E ./tensorflow/compiler/xla/stream_executor/stream_executor_internal.h:124] SetPriority unimplemented for this stream.\n",
      "2023-12-10 23:56:10.725899: E ./tensorflow/compiler/xla/stream_executor/stream_executor_internal.h:124] SetPriority unimplemented for this stream.\n"
     ]
    },
    {
     "name": "stdout",
     "output_type": "stream",
     "text": [
      "118/928 [==>...........................] - ETA: 1:10 - loss: 0.7166 - accuracy: 0.5403"
     ]
    },
    {
     "name": "stderr",
     "output_type": "stream",
     "text": [
      "2023-12-10 23:56:15.774388: E ./tensorflow/compiler/xla/stream_executor/stream_executor_internal.h:124] SetPriority unimplemented for this stream.\n",
      "2023-12-10 23:56:15.774863: E ./tensorflow/compiler/xla/stream_executor/stream_executor_internal.h:124] SetPriority unimplemented for this stream.\n"
     ]
    },
    {
     "name": "stdout",
     "output_type": "stream",
     "text": [
      "234/928 [======>.......................] - ETA: 1:00 - loss: 0.6947 - accuracy: 0.5751"
     ]
    },
    {
     "name": "stderr",
     "output_type": "stream",
     "text": [
      "2023-12-10 23:56:25.737002: E ./tensorflow/compiler/xla/stream_executor/stream_executor_internal.h:124] SetPriority unimplemented for this stream.\n"
     ]
    },
    {
     "name": "stdout",
     "output_type": "stream",
     "text": [
      "928/928 [==============================] - ETA: 0s - loss: 0.6623 - accuracy: 0.6061"
     ]
    },
    {
     "name": "stderr",
     "output_type": "stream",
     "text": [
      "23:57:31 | INFO  | tpu             | TPU has inputs with dynamic shapes: [<tf.Tensor 'Const:0' shape=() dtype=int32>, ((<tf.Tensor 'cond/Identity:0' shape=(None, 299, 299, 3) dtype=float32>, <tf.Tensor 'cond/Identity_8:0' shape=(None,) dtype=int64>),), {}]\n",
      "2023-12-10 23:57:33.344990: E tensorflow/core/grappler/optimizers/meta_optimizer.cc:961] model_pruner failed: INVALID_ARGUMENT: Graph does not contain terminal node AssignAddVariableOp.\n"
     ]
    },
    {
     "name": "stdout",
     "output_type": "stream",
     "text": [
      "928/928 [==============================] - 163s 152ms/step - loss: 0.6623 - accuracy: 0.6061 - val_loss: 0.8064 - val_accuracy: 0.4168\n",
      "Epoch 2/20\n",
      " 77/928 [=>............................] - ETA: 2:20 - loss: 0.6478 - accuracy: 0.6238"
     ]
    },
    {
     "name": "stderr",
     "output_type": "stream",
     "text": [
      "2023-12-10 23:58:40.362152: E ./tensorflow/compiler/xla/stream_executor/stream_executor_internal.h:124] SetPriority unimplemented for this stream.\n",
      "2023-12-10 23:58:40.362785: E ./tensorflow/compiler/xla/stream_executor/stream_executor_internal.h:124] SetPriority unimplemented for this stream.\n"
     ]
    },
    {
     "name": "stdout",
     "output_type": "stream",
     "text": [
      "928/928 [==============================] - 117s 126ms/step - loss: 0.6302 - accuracy: 0.6402 - val_loss: 0.4722 - val_accuracy: 0.7830\n",
      "Epoch 3/20\n",
      "928/928 [==============================] - 116s 125ms/step - loss: 0.6200 - accuracy: 0.6489 - val_loss: 0.3928 - val_accuracy: 0.8803\n",
      "Epoch 4/20\n",
      "928/928 [==============================] - 116s 124ms/step - loss: 0.6100 - accuracy: 0.6596 - val_loss: 0.6105 - val_accuracy: 0.6087\n",
      "Epoch 5/20\n",
      "928/928 [==============================] - 116s 125ms/step - loss: 0.6063 - accuracy: 0.6653 - val_loss: 0.3812 - val_accuracy: 0.8783\n",
      "Epoch 6/20\n",
      "928/928 [==============================] - 117s 125ms/step - loss: 0.6015 - accuracy: 0.6696 - val_loss: 0.4866 - val_accuracy: 0.7499\n",
      "Epoch 7/20\n",
      "928/928 [==============================] - 116s 124ms/step - loss: 0.5973 - accuracy: 0.6748 - val_loss: 0.4292 - val_accuracy: 0.8191\n",
      "Epoch 8/20\n",
      "928/928 [==============================] - 116s 125ms/step - loss: 0.5988 - accuracy: 0.6712 - val_loss: 0.5384 - val_accuracy: 0.6874\n",
      "Epoch 9/20\n",
      "928/928 [==============================] - 116s 124ms/step - loss: 0.5923 - accuracy: 0.6779 - val_loss: 0.4325 - val_accuracy: 0.8107\n",
      "Epoch 10/20\n",
      "928/928 [==============================] - 117s 125ms/step - loss: 0.5893 - accuracy: 0.6823 - val_loss: 0.3621 - val_accuracy: 0.8949\n",
      "Epoch 11/20\n",
      "928/928 [==============================] - 116s 125ms/step - loss: 0.5885 - accuracy: 0.6806 - val_loss: 0.3789 - val_accuracy: 0.8705\n",
      "Epoch 12/20\n",
      "928/928 [==============================] - 115s 124ms/step - loss: 0.5848 - accuracy: 0.6855 - val_loss: 0.4092 - val_accuracy: 0.8389\n",
      "Epoch 13/20\n",
      "928/928 [==============================] - 117s 126ms/step - loss: 0.5833 - accuracy: 0.6839 - val_loss: 0.4676 - val_accuracy: 0.7656\n",
      "Epoch 14/20\n",
      "928/928 [==============================] - 116s 125ms/step - loss: 0.5814 - accuracy: 0.6844 - val_loss: 0.5990 - val_accuracy: 0.6211\n",
      "Epoch 15/20\n",
      "928/928 [==============================] - 117s 126ms/step - loss: 0.5820 - accuracy: 0.6877 - val_loss: 0.3102 - val_accuracy: 0.9263\n",
      "Epoch 16/20\n",
      "928/928 [==============================] - 116s 125ms/step - loss: 0.5794 - accuracy: 0.6891 - val_loss: 0.3603 - val_accuracy: 0.8840\n",
      "Epoch 17/20\n",
      "928/928 [==============================] - 116s 124ms/step - loss: 0.5764 - accuracy: 0.6903 - val_loss: 0.5063 - val_accuracy: 0.7215\n",
      "Epoch 18/20\n",
      "928/928 [==============================] - 117s 125ms/step - loss: 0.5751 - accuracy: 0.6927 - val_loss: 0.6788 - val_accuracy: 0.5645\n",
      "Epoch 19/20\n",
      "928/928 [==============================] - 116s 125ms/step - loss: 0.5774 - accuracy: 0.6890 - val_loss: 0.3915 - val_accuracy: 0.8519\n",
      "Epoch 20/20\n",
      "928/928 [==============================] - 122s 131ms/step - loss: 0.5752 - accuracy: 0.6912 - val_loss: 0.5477 - val_accuracy: 0.6754\n"
     ]
    }
   ],
   "source": [
    "with tpu_strategy.scope():\n",
    "    resnet_base_model = ResNet50(include_top=False, input_shape=(299, 299, 3), weights='imagenet')\n",
    "    resnet_base_model.trainable = False\n",
    "\n",
    "    stop_early_resnet = EarlyStopping(monitor='val_loss', patience=5, restore_best_weights=True)\n",
    "\n",
    "    resnet_classifier = models.Sequential([\n",
    "        CustomAugmentationLayer(),\n",
    "        resnet_base_model,\n",
    "        layers.GlobalAveragePooling2D(),\n",
    "        layers.Dense(128, activation='relu'),\n",
    "        layers.BatchNormalization(),\n",
    "        layers.Dropout(0.3),\n",
    "        layers.Dense(2, activation='softmax')\n",
    "    ])\n",
    "\n",
    "resnet_optimizer = tf.keras.optimizers.Adam(learning_rate=0.00001)\n",
    "resnet_classifier.compile(optimizer=resnet_optimizer, loss='sparse_categorical_crossentropy', metrics=['accuracy'])\n",
    "\n",
    "resnet_training_history = resnet_classifier.fit(tf_dataset_train, epochs=20, validation_data=tf_dataset_val, callbacks=[stop_early_resnet], class_weight=weight_dictionary, batch_size=8)"
   ]
  },
  {
   "cell_type": "code",
   "execution_count": 11,
   "metadata": {
    "execution": {
     "iopub.execute_input": "2023-12-11T00:35:31.155117Z",
     "iopub.status.busy": "2023-12-11T00:35:31.154798Z",
     "iopub.status.idle": "2023-12-11T00:54:08.222936Z",
     "shell.execute_reply": "2023-12-11T00:54:08.221698Z",
     "shell.execute_reply.started": "2023-12-11T00:35:31.155088Z"
    }
   },
   "outputs": [
    {
     "name": "stderr",
     "output_type": "stream",
     "text": [
      "2023-12-11 00:35:33.485887: E tensorflow/core/grappler/optimizers/meta_optimizer.cc:961] model_pruner failed: INVALID_ARGUMENT: Graph does not contain terminal node AssignAddVariableOp.\n",
      "00:45:41 | INFO  | tpu             | TPU has inputs with dynamic shapes: [<tf.Tensor 'Const:0' shape=() dtype=int32>, (<tf.Tensor 'cond/Identity:0' shape=(None, 299, 299, 3) dtype=float32>,), {}]\n",
      "2023-12-11 00:45:43.242864: E tensorflow/core/grappler/optimizers/meta_optimizer.cc:961] model_pruner failed: INVALID_ARGUMENT: Graph does not contain terminal node AssignAddVariableOp.\n"
     ]
    }
   ],
   "source": [
    "def assess_performance(model, data, display_output=True):\n",
    "  actual_labels = []\n",
    "  predicted_labels = []\n",
    "  for images, labels in data:\n",
    "    predictions = model.predict(images, verbose=0)\n",
    "    actual_labels.extend(labels.numpy())\n",
    "    predicted_labels.extend(np.argmax(predictions, axis=1))\n",
    "\n",
    "  performance_report = classification_report(actual_labels, predicted_labels)\n",
    "  return performance_report\n",
    "\n",
    "report_train = assess_performance(resnet_classifier, tf_dataset_train)\n",
    "report_validation = assess_performance(resnet_classifier, tf_dataset_val)\n",
    "report_test = assess_performance(resnet_classifier, tf_dataset_test)"
   ]
  },
  {
   "cell_type": "code",
   "execution_count": 12,
   "metadata": {
    "execution": {
     "iopub.execute_input": "2023-12-11T00:54:08.224535Z",
     "iopub.status.busy": "2023-12-11T00:54:08.224216Z",
     "iopub.status.idle": "2023-12-11T00:54:08.417386Z",
     "shell.execute_reply": "2023-12-11T00:54:08.416493Z",
     "shell.execute_reply.started": "2023-12-11T00:54:08.224504Z"
    }
   },
   "outputs": [
    {
     "data": {
      "image/png": "[encoded data removed]",
      "text/plain": [
       "<Figure size 640x480 with 1 Axes>"
      ]
     },
     "metadata": {},
     "output_type": "display_data"
    }
   ],
   "source": [
    "plt.plot(resnet_training_history.history['loss'], label='Training Loss')\n",
    "plt.plot(resnet_training_history.history['val_loss'], label='Validation Loss')\n",
    "plt.xlabel('Epochs')\n",
    "plt.ylabel('Loss')\n",
    "plt.legend()\n",
    "plt.show()\n",
    "\n",
    "resnet_checkpoint = ModelCheckpoint('resnet_best_model.h5', monitor='val_loss', verbose=1, save_best_only=True, mode='min')"
   ]
  },
  {
   "cell_type": "code",
   "execution_count": 13,
   "metadata": {
    "execution": {
     "iopub.execute_input": "2023-12-11T00:55:45.938428Z",
     "iopub.status.busy": "2023-12-11T00:55:45.937945Z",
     "iopub.status.idle": "2023-12-11T00:55:45.943648Z",
     "shell.execute_reply": "2023-12-11T00:55:45.942669Z",
     "shell.execute_reply.started": "2023-12-11T00:55:45.938391Z"
    }
   },
   "outputs": [
    {
     "name": "stdout",
     "output_type": "stream",
     "text": [
      "              precision    recall  f1-score   support\n",
      "\n",
      "           0       0.61      0.94      0.74      4418\n",
      "           1       0.95      0.68      0.80      8405\n",
      "\n",
      "    accuracy                           0.77     12823\n",
      "   macro avg       0.78      0.81      0.77     12823\n",
      "weighted avg       0.84      0.77      0.78     12823\n",
      "\n"
     ]
    }
   ],
   "source": [
    "print(report_test)"
   ]
  },
  {
   "cell_type": "markdown",
   "metadata": {},
   "source": [
    "# VGG"
   ]
  },
  {
   "cell_type": "code",
   "execution_count": 5,
   "metadata": {
    "execution": {
     "iopub.execute_input": "2023-12-11T01:17:30.122764Z",
     "iopub.status.busy": "2023-12-11T01:17:30.122445Z",
     "iopub.status.idle": "2023-12-11T01:17:35.394829Z",
     "shell.execute_reply": "2023-12-11T01:17:35.393835Z",
     "shell.execute_reply.started": "2023-12-11T01:17:30.122733Z"
    }
   },
   "outputs": [
    {
     "name": "stdout",
     "output_type": "stream",
     "text": [
      "INFO:tensorflow:Deallocate tpu buffers before initializing tpu system.\n"
     ]
    },
    {
     "name": "stderr",
     "output_type": "stream",
     "text": [
      "01:17:30 | INFO  | tpu_strategy_util | Deallocate tpu buffers before initializing tpu system.\n"
     ]
    },
    {
     "name": "stdout",
     "output_type": "stream",
     "text": [
      "INFO:tensorflow:Initializing the TPU system: local\n"
     ]
    },
    {
     "name": "stderr",
     "output_type": "stream",
     "text": [
      "01:17:30 | INFO  | tpu_strategy_util | Initializing the TPU system: local\n"
     ]
    },
    {
     "name": "stdout",
     "output_type": "stream",
     "text": [
      "INFO:tensorflow:Finished initializing TPU system.\n"
     ]
    },
    {
     "name": "stderr",
     "output_type": "stream",
     "text": [
      "01:17:35 | INFO  | tpu_strategy_util | Finished initializing TPU system.\n"
     ]
    },
    {
     "name": "stdout",
     "output_type": "stream",
     "text": [
      "INFO:tensorflow:Found TPU system:\n"
     ]
    },
    {
     "name": "stderr",
     "output_type": "stream",
     "text": [
      "01:17:35 | INFO  | tpu_system_metadata | Found TPU system:\n"
     ]
    },
    {
     "name": "stdout",
     "output_type": "stream",
     "text": [
      "INFO:tensorflow:*** Num TPU Cores: 8\n"
     ]
    },
    {
     "name": "stderr",
     "output_type": "stream",
     "text": [
      "01:17:35 | INFO  | tpu_system_metadata | *** Num TPU Cores: 8\n"
     ]
    },
    {
     "name": "stdout",
     "output_type": "stream",
     "text": [
      "INFO:tensorflow:*** Num TPU Workers: 1\n"
     ]
    },
    {
     "name": "stderr",
     "output_type": "stream",
     "text": [
      "01:17:35 | INFO  | tpu_system_metadata | *** Num TPU Workers: 1\n"
     ]
    },
    {
     "name": "stdout",
     "output_type": "stream",
     "text": [
      "INFO:tensorflow:*** Num TPU Cores Per Worker: 8\n"
     ]
    },
    {
     "name": "stderr",
     "output_type": "stream",
     "text": [
      "01:17:35 | INFO  | tpu_system_metadata | *** Num TPU Cores Per Worker: 8\n"
     ]
    },
    {
     "name": "stdout",
     "output_type": "stream",
     "text": [
      "INFO:tensorflow:*** Available Device: _DeviceAttributes(/job:localhost/replica:0/task:0/device:CPU:0, CPU, 0, 0)\n"
     ]
    },
    {
     "name": "stderr",
     "output_type": "stream",
     "text": [
      "01:17:35 | INFO  | tpu_system_metadata | *** Available Device: _DeviceAttributes(/job:localhost/replica:0/task:0/device:CPU:0, CPU, 0, 0)\n"
     ]
    },
    {
     "name": "stdout",
     "output_type": "stream",
     "text": [
      "INFO:tensorflow:*** Available Device: _DeviceAttributes(/job:localhost/replica:0/task:0/device:TPU:0, TPU, 0, 0)\n"
     ]
    },
    {
     "name": "stderr",
     "output_type": "stream",
     "text": [
      "01:17:35 | INFO  | tpu_system_metadata | *** Available Device: _DeviceAttributes(/job:localhost/replica:0/task:0/device:TPU:0, TPU, 0, 0)\n"
     ]
    },
    {
     "name": "stdout",
     "output_type": "stream",
     "text": [
      "INFO:tensorflow:*** Available Device: _DeviceAttributes(/job:localhost/replica:0/task:0/device:TPU:1, TPU, 0, 0)\n"
     ]
    },
    {
     "name": "stderr",
     "output_type": "stream",
     "text": [
      "01:17:35 | INFO  | tpu_system_metadata | *** Available Device: _DeviceAttributes(/job:localhost/replica:0/task:0/device:TPU:1, TPU, 0, 0)\n"
     ]
    },
    {
     "name": "stdout",
     "output_type": "stream",
     "text": [
      "INFO:tensorflow:*** Available Device: _DeviceAttributes(/job:localhost/replica:0/task:0/device:TPU:2, TPU, 0, 0)\n"
     ]
    },
    {
     "name": "stderr",
     "output_type": "stream",
     "text": [
      "01:17:35 | INFO  | tpu_system_metadata | *** Available Device: _DeviceAttributes(/job:localhost/replica:0/task:0/device:TPU:2, TPU, 0, 0)\n"
     ]
    },
    {
     "name": "stdout",
     "output_type": "stream",
     "text": [
      "INFO:tensorflow:*** Available Device: _DeviceAttributes(/job:localhost/replica:0/task:0/device:TPU:3, TPU, 0, 0)\n"
     ]
    },
    {
     "name": "stderr",
     "output_type": "stream",
     "text": [
      "01:17:35 | INFO  | tpu_system_metadata | *** Available Device: _DeviceAttributes(/job:localhost/replica:0/task:0/device:TPU:3, TPU, 0, 0)\n"
     ]
    },
    {
     "name": "stdout",
     "output_type": "stream",
     "text": [
      "INFO:tensorflow:*** Available Device: _DeviceAttributes(/job:localhost/replica:0/task:0/device:TPU:4, TPU, 0, 0)\n"
     ]
    },
    {
     "name": "stderr",
     "output_type": "stream",
     "text": [
      "01:17:35 | INFO  | tpu_system_metadata | *** Available Device: _DeviceAttributes(/job:localhost/replica:0/task:0/device:TPU:4, TPU, 0, 0)\n"
     ]
    },
    {
     "name": "stdout",
     "output_type": "stream",
     "text": [
      "INFO:tensorflow:*** Available Device: _DeviceAttributes(/job:localhost/replica:0/task:0/device:TPU:5, TPU, 0, 0)\n"
     ]
    },
    {
     "name": "stderr",
     "output_type": "stream",
     "text": [
      "01:17:35 | INFO  | tpu_system_metadata | *** Available Device: _DeviceAttributes(/job:localhost/replica:0/task:0/device:TPU:5, TPU, 0, 0)\n"
     ]
    },
    {
     "name": "stdout",
     "output_type": "stream",
     "text": [
      "INFO:tensorflow:*** Available Device: _DeviceAttributes(/job:localhost/replica:0/task:0/device:TPU:6, TPU, 0, 0)\n"
     ]
    },
    {
     "name": "stderr",
     "output_type": "stream",
     "text": [
      "01:17:35 | INFO  | tpu_system_metadata | *** Available Device: _DeviceAttributes(/job:localhost/replica:0/task:0/device:TPU:6, TPU, 0, 0)\n"
     ]
    },
    {
     "name": "stdout",
     "output_type": "stream",
     "text": [
      "INFO:tensorflow:*** Available Device: _DeviceAttributes(/job:localhost/replica:0/task:0/device:TPU:7, TPU, 0, 0)\n"
     ]
    },
    {
     "name": "stderr",
     "output_type": "stream",
     "text": [
      "01:17:35 | INFO  | tpu_system_metadata | *** Available Device: _DeviceAttributes(/job:localhost/replica:0/task:0/device:TPU:7, TPU, 0, 0)\n"
     ]
    },
    {
     "name": "stdout",
     "output_type": "stream",
     "text": [
      "INFO:tensorflow:*** Available Device: _DeviceAttributes(/job:localhost/replica:0/task:0/device:TPU_SYSTEM:0, TPU_SYSTEM, 0, 0)\n"
     ]
    },
    {
     "name": "stderr",
     "output_type": "stream",
     "text": [
      "01:17:35 | INFO  | tpu_system_metadata | *** Available Device: _DeviceAttributes(/job:localhost/replica:0/task:0/device:TPU_SYSTEM:0, TPU_SYSTEM, 0, 0)\n"
     ]
    }
   ],
   "source": [
    "tpu = tf.distribute.cluster_resolver.TPUClusterResolver()\n",
    "tf.config.experimental_connect_to_cluster(tpu)\n",
    "tf.tpu.experimental.initialize_tpu_system(tpu)\n",
    "tpu_strategy = tf.distribute.TPUStrategy(tpu)"
   ]
  },
  {
   "cell_type": "code",
   "execution_count": 9,
   "metadata": {
    "execution": {
     "iopub.execute_input": "2023-12-11T01:19:45.791833Z",
     "iopub.status.busy": "2023-12-11T01:19:45.791384Z",
     "iopub.status.idle": "2023-12-11T01:29:40.770795Z",
     "shell.execute_reply": "2023-12-11T01:29:40.769427Z",
     "shell.execute_reply.started": "2023-12-11T01:19:45.791794Z"
    }
   },
   "outputs": [
    {
     "name": "stdout",
     "output_type": "stream",
     "text": [
      "Epoch 1/20\n"
     ]
    },
    {
     "name": "stderr",
     "output_type": "stream",
     "text": [
      "01:19:48 | INFO  | tpu             | TPU has inputs with dynamic shapes: [<tf.Tensor 'Const:0' shape=() dtype=int32>, ((<tf.Tensor 'cond/Identity:0' shape=(None, 299, 299, 3) dtype=float32>, <tf.Tensor 'cond/Identity_8:0' shape=(None,) dtype=int64>, <tf.Tensor 'cond/Identity_16:0' shape=(None,) dtype=float64>),), {}]\n",
      "01:19:50 | INFO  | tpu             | TPU has inputs with dynamic shapes: [<tf.Tensor 'Const:0' shape=() dtype=int32>, ((<tf.Tensor 'cond/Identity:0' shape=(None, 299, 299, 3) dtype=float32>, <tf.Tensor 'cond/Identity_8:0' shape=(None,) dtype=int64>, <tf.Tensor 'cond/Identity_16:0' shape=(None,) dtype=float64>),), {}]\n",
      "2023-12-11 01:19:51.124756: E tensorflow/core/grappler/optimizers/meta_optimizer.cc:961] model_pruner failed: INVALID_ARGUMENT: Graph does not contain terminal node Adam/AssignAddVariableOp.\n",
      "2023-12-11 01:19:51.889619: E ./tensorflow/compiler/xla/stream_executor/stream_executor_internal.h:124] SetPriority unimplemented for this stream.\n",
      "2023-12-11 01:19:51.893399: E ./tensorflow/compiler/xla/stream_executor/stream_executor_internal.h:124] SetPriority unimplemented for this stream.\n",
      "2023-12-11 01:19:51.893691: E ./tensorflow/compiler/xla/stream_executor/stream_executor_internal.h:124] SetPriority unimplemented for this stream.\n",
      "2023-12-11 01:19:51.893850: E ./tensorflow/compiler/xla/stream_executor/stream_executor_internal.h:124] SetPriority unimplemented for this stream.\n",
      "2023-12-11 01:19:51.894452: E ./tensorflow/compiler/xla/stream_executor/stream_executor_internal.h:124] SetPriority unimplemented for this stream.\n",
      "2023-12-11 01:19:51.895050: E ./tensorflow/compiler/xla/stream_executor/stream_executor_internal.h:124] SetPriority unimplemented for this stream.\n",
      "2023-12-11 01:19:51.897811: E ./tensorflow/compiler/xla/stream_executor/stream_executor_internal.h:124] SetPriority unimplemented for this stream.\n",
      "2023-12-11 01:19:51.900735: E ./tensorflow/compiler/xla/stream_executor/stream_executor_internal.h:124] SetPriority unimplemented for this stream.\n",
      "2023-12-11 01:19:51.902333: E ./tensorflow/compiler/xla/stream_executor/stream_executor_internal.h:124] SetPriority unimplemented for this stream.\n"
     ]
    },
    {
     "name": "stdout",
     "output_type": "stream",
     "text": [
      "  2/928 [..............................] - ETA: 1:13 - loss: 0.8569 - accuracy: 0.4531   "
     ]
    },
    {
     "name": "stderr",
     "output_type": "stream",
     "text": [
      "2023-12-11 01:20:01.974488: E ./tensorflow/compiler/xla/stream_executor/stream_executor_internal.h:124] SetPriority unimplemented for this stream.\n",
      "2023-12-11 01:20:01.974633: E ./tensorflow/compiler/xla/stream_executor/stream_executor_internal.h:124] SetPriority unimplemented for this stream.\n",
      "2023-12-11 01:20:01.974718: E ./tensorflow/compiler/xla/stream_executor/stream_executor_internal.h:124] SetPriority unimplemented for this stream.\n",
      "2023-12-11 01:20:01.974809: E ./tensorflow/compiler/xla/stream_executor/stream_executor_internal.h:124] SetPriority unimplemented for this stream.\n",
      "2023-12-11 01:20:01.974942: E ./tensorflow/compiler/xla/stream_executor/stream_executor_internal.h:124] SetPriority unimplemented for this stream.\n",
      "2023-12-11 01:20:01.975089: E ./tensorflow/compiler/xla/stream_executor/stream_executor_internal.h:124] SetPriority unimplemented for this stream.\n",
      "2023-12-11 01:20:01.975209: E ./tensorflow/compiler/xla/stream_executor/stream_executor_internal.h:124] SetPriority unimplemented for this stream.\n",
      "2023-12-11 01:20:01.975314: E ./tensorflow/compiler/xla/stream_executor/stream_executor_internal.h:124] SetPriority unimplemented for this stream.\n",
      "2023-12-11 01:20:02.015761: E ./tensorflow/compiler/xla/stream_executor/stream_executor_internal.h:124] SetPriority unimplemented for this stream.\n",
      "2023-12-11 01:20:02.016094: E ./tensorflow/compiler/xla/stream_executor/stream_executor_internal.h:124] SetPriority unimplemented for this stream.\n",
      "2023-12-11 01:20:02.017959: E ./tensorflow/compiler/xla/stream_executor/stream_executor_internal.h:124] SetPriority unimplemented for this stream.\n",
      "2023-12-11 01:20:02.102141: E ./tensorflow/compiler/xla/stream_executor/stream_executor_internal.h:124] SetPriority unimplemented for this stream.\n",
      "2023-12-11 01:20:02.102336: E ./tensorflow/compiler/xla/stream_executor/stream_executor_internal.h:124] SetPriority unimplemented for this stream.\n",
      "2023-12-11 01:20:02.104521: E ./tensorflow/compiler/xla/stream_executor/stream_executor_internal.h:124] SetPriority unimplemented for this stream.\n"
     ]
    },
    {
     "name": "stdout",
     "output_type": "stream",
     "text": [
      "123/928 [==>...........................] - ETA: 1:07 - loss: 0.5734 - accuracy: 0.7048"
     ]
    },
    {
     "name": "stderr",
     "output_type": "stream",
     "text": [
      "2023-12-11 01:20:12.005601: E ./tensorflow/compiler/xla/stream_executor/stream_executor_internal.h:124] SetPriority unimplemented for this stream.\n",
      "2023-12-11 01:20:12.005852: E ./tensorflow/compiler/xla/stream_executor/stream_executor_internal.h:124] SetPriority unimplemented for this stream.\n"
     ]
    },
    {
     "name": "stdout",
     "output_type": "stream",
     "text": [
      "184/928 [====>.........................] - ETA: 1:01 - loss: 0.5600 - accuracy: 0.7094"
     ]
    },
    {
     "name": "stderr",
     "output_type": "stream",
     "text": [
      "2023-12-11 01:20:17.032353: E ./tensorflow/compiler/xla/stream_executor/stream_executor_internal.h:124] SetPriority unimplemented for this stream.\n",
      "2023-12-11 01:20:17.032570: E ./tensorflow/compiler/xla/stream_executor/stream_executor_internal.h:124] SetPriority unimplemented for this stream.\n"
     ]
    },
    {
     "name": "stdout",
     "output_type": "stream",
     "text": [
      "244/928 [======>.......................] - ETA: 56s - loss: 0.5472 - accuracy: 0.7199"
     ]
    },
    {
     "name": "stderr",
     "output_type": "stream",
     "text": [
      "2023-12-11 01:20:22.083625: E ./tensorflow/compiler/xla/stream_executor/stream_executor_internal.h:124] SetPriority unimplemented for this stream.\n"
     ]
    },
    {
     "name": "stdout",
     "output_type": "stream",
     "text": [
      "364/928 [==========>...................] - ETA: 46s - loss: 0.5286 - accuracy: 0.7296"
     ]
    },
    {
     "name": "stderr",
     "output_type": "stream",
     "text": [
      "2023-12-11 01:20:32.100478: E ./tensorflow/compiler/xla/stream_executor/stream_executor_internal.h:124] SetPriority unimplemented for this stream.\n"
     ]
    },
    {
     "name": "stdout",
     "output_type": "stream",
     "text": [
      "541/928 [================>.............] - ETA: 32s - loss: 0.5176 - accuracy: 0.7397"
     ]
    },
    {
     "name": "stderr",
     "output_type": "stream",
     "text": [
      "2023-12-11 01:20:47.107912: E ./tensorflow/compiler/xla/stream_executor/stream_executor_internal.h:124] SetPriority unimplemented for this stream.\n"
     ]
    },
    {
     "name": "stdout",
     "output_type": "stream",
     "text": [
      "928/928 [==============================] - ETA: 0s - loss: 0.4960 - accuracy: 0.7531"
     ]
    },
    {
     "name": "stderr",
     "output_type": "stream",
     "text": [
      "01:21:24 | INFO  | tpu             | TPU has inputs with dynamic shapes: [<tf.Tensor 'Const:0' shape=() dtype=int32>, ((<tf.Tensor 'cond/Identity:0' shape=(None, 299, 299, 3) dtype=float32>, <tf.Tensor 'cond/Identity_8:0' shape=(None,) dtype=int64>),), {}]\n",
      "2023-12-11 01:21:25.289193: E tensorflow/core/grappler/optimizers/meta_optimizer.cc:961] model_pruner failed: INVALID_ARGUMENT: Graph does not contain terminal node AssignAddVariableOp.\n"
     ]
    },
    {
     "name": "stdout",
     "output_type": "stream",
     "text": [
      "928/928 [==============================] - 141s 137ms/step - loss: 0.4960 - accuracy: 0.7531 - val_loss: 0.5543 - val_accuracy: 0.7079\n",
      "Epoch 2/20\n",
      "252/928 [=======>......................] - ETA: 1:18 - loss: 0.4362 - accuracy: 0.7914"
     ]
    },
    {
     "name": "stderr",
     "output_type": "stream",
     "text": [
      "2023-12-11 01:22:38.721890: E ./tensorflow/compiler/xla/stream_executor/stream_executor_internal.h:124] SetPriority unimplemented for this stream.\n"
     ]
    },
    {
     "name": "stdout",
     "output_type": "stream",
     "text": [
      "928/928 [==============================] - 112s 120ms/step - loss: 0.4466 - accuracy: 0.7871 - val_loss: 0.2786 - val_accuracy: 0.8900\n",
      "Epoch 3/20\n",
      "928/928 [==============================] - 112s 121ms/step - loss: 0.4358 - accuracy: 0.7918 - val_loss: 0.2950 - val_accuracy: 0.8877\n",
      "Epoch 4/20\n",
      "928/928 [==============================] - 113s 121ms/step - loss: 0.4292 - accuracy: 0.7962 - val_loss: 0.6900 - val_accuracy: 0.6466\n",
      "Epoch 5/20\n",
      "928/928 [==============================] - 113s 122ms/step - loss: 0.4330 - accuracy: 0.7962 - val_loss: 0.4709 - val_accuracy: 0.7546\n"
     ]
    }
   ],
   "source": [
    "with tpu_strategy.scope():\n",
    "    vgg_feature_extractor = VGG16(include_top=False, input_shape=(299, 299, 3), weights='imagenet')\n",
    "    vgg_feature_extractor.trainable = False\n",
    "\n",
    "    vgg_classifier = models.Sequential([\n",
    "        CustomAugmentationLayer(),\n",
    "        vgg_feature_extractor,\n",
    "        layers.GlobalAveragePooling2D(),\n",
    "        layers.Dense(128, activation='relu'),\n",
    "        layers.BatchNormalization(),\n",
    "        layers.Dropout(0.3),\n",
    "        layers.Dense(2, activation='softmax')\n",
    "    ])\n",
    "    \n",
    "stop_early_vgg = EarlyStopping(monitor='val_loss', patience=3, restore_best_weights=True)\n",
    "\n",
    "vgg_optimizer = tf.keras.optimizers.Adam(learning_rate=0.001)\n",
    "vgg_classifier.compile(optimizer=vgg_optimizer, loss='sparse_categorical_crossentropy', metrics=['accuracy'])\n",
    "\n",
    "training_history_vgg = vgg_classifier.fit(tf_dataset_train, \n",
    "                                          epochs=20, \n",
    "                                          validation_data=tf_dataset_val, \n",
    "                                          callbacks=[stop_early_vgg], \n",
    "                                          class_weight=weight_dictionary, \n",
    "                                          batch_size=8)"
   ]
  },
  {
   "cell_type": "code",
   "execution_count": 10,
   "metadata": {
    "execution": {
     "iopub.execute_input": "2023-12-11T01:29:40.772872Z",
     "iopub.status.busy": "2023-12-11T01:29:40.772578Z",
     "iopub.status.idle": "2023-12-11T01:47:54.253856Z",
     "shell.execute_reply": "2023-12-11T01:47:54.252603Z",
     "shell.execute_reply.started": "2023-12-11T01:29:40.772842Z"
    }
   },
   "outputs": [
    {
     "name": "stderr",
     "output_type": "stream",
     "text": [
      "2023-12-11 01:29:42.062677: E tensorflow/core/grappler/optimizers/meta_optimizer.cc:961] model_pruner failed: INVALID_ARGUMENT: Graph does not contain terminal node AssignAddVariableOp.\n",
      "01:39:40 | INFO  | tpu             | TPU has inputs with dynamic shapes: [<tf.Tensor 'Const:0' shape=() dtype=int32>, (<tf.Tensor 'cond/Identity:0' shape=(None, 299, 299, 3) dtype=float32>,), {}]\n",
      "2023-12-11 01:39:40.321594: E tensorflow/core/grappler/optimizers/meta_optimizer.cc:961] model_pruner failed: INVALID_ARGUMENT: Graph does not contain terminal node AssignAddVariableOp.\n"
     ]
    }
   ],
   "source": [
    "def assess_performance(model, data, display_output=True):\n",
    "  actual_labels = []\n",
    "  predicted_labels = []\n",
    "  for images, labels in data:\n",
    "    predictions = model.predict(images, verbose=0)\n",
    "    actual_labels.extend(labels.numpy())\n",
    "    predicted_labels.extend(np.argmax(predictions, axis=1))\n",
    "\n",
    "  performance_report = classification_report(actual_labels, predicted_labels)\n",
    "  return performance_report\n",
    "\n",
    "report_train = assess_performance(vgg_classifier, tf_dataset_train)\n",
    "report_validation = assess_performance(vgg_classifier, tf_dataset_val)\n",
    "report_test = assess_performance(vgg_classifier, tf_dataset_test)"
   ]
  },
  {
   "cell_type": "code",
   "execution_count": 11,
   "metadata": {
    "execution": {
     "iopub.execute_input": "2023-12-11T01:47:54.255596Z",
     "iopub.status.busy": "2023-12-11T01:47:54.255241Z",
     "iopub.status.idle": "2023-12-11T01:47:54.456005Z",
     "shell.execute_reply": "2023-12-11T01:47:54.454800Z",
     "shell.execute_reply.started": "2023-12-11T01:47:54.255561Z"
    }
   },
   "outputs": [
    {
     "data": {
      "image/png": "[encoded data removed]",
      "text/plain": [
       "<Figure size 640x480 with 1 Axes>"
      ]
     },
     "metadata": {},
     "output_type": "display_data"
    }
   ],
   "source": [
    "plt.plot(training_history_vgg.history['loss'], label='Training Loss')\n",
    "plt.plot(training_history_vgg.history['val_loss'], label='Validation Loss')\n",
    "plt.xlabel('Epochs')\n",
    "plt.ylabel('Loss')\n",
    "plt.legend()\n",
    "plt.show()\n",
    "\n",
    "vgg_checkpoint = ModelCheckpoint('vgg_best_model.h5', monitor='val_loss', verbose=1, save_best_only=True, mode='min')"
   ]
  },
  {
   "cell_type": "code",
   "execution_count": 12,
   "metadata": {
    "execution": {
     "iopub.execute_input": "2023-12-11T01:47:54.458044Z",
     "iopub.status.busy": "2023-12-11T01:47:54.457774Z",
     "iopub.status.idle": "2023-12-11T01:47:54.462717Z",
     "shell.execute_reply": "2023-12-11T01:47:54.461691Z",
     "shell.execute_reply.started": "2023-12-11T01:47:54.458017Z"
    }
   },
   "outputs": [
    {
     "name": "stdout",
     "output_type": "stream",
     "text": [
      "              precision    recall  f1-score   support\n",
      "\n",
      "           0       0.78      0.96      0.86      4418\n",
      "           1       0.98      0.85      0.91      8405\n",
      "\n",
      "    accuracy                           0.89     12823\n",
      "   macro avg       0.88      0.91      0.89     12823\n",
      "weighted avg       0.91      0.89      0.89     12823\n",
      "\n"
     ]
    }
   ],
   "source": [
    "print(report_test)"
   ]
  },
  {
   "cell_type": "markdown",
   "metadata": {},
   "source": [
    "### 1(d) vi"
   ]
  },
  {
   "cell_type": "markdown",
   "metadata": {},
   "source": [
    "The CNN+MLP model is the most balanced and highest-performing model among the four, suggesting that the combination of convolutional layers with a fully connected network (MLP) has been most effective for this particular task.\n",
    "The EfficientNet model's performance is notably inadequate, which could be due to several factors that need investigation. It is not uncommon for certain architectures to require specific tweaks and optimizations to perform well on a given dataset.\n",
    "The ResNet and VGG models show decent performance, but they are not as effective as the CNN+MLP model. This could be due to the inherent differences in how these architectures process features or possibly due to how they were fine-tuned and optimized during the training process.\n",
    "In conclusion, the CNN+MLP model's architecture seems to be best suited for the given classification task, based on the provided dataset and the training setup."
   ]
  },
  {
   "cell_type": "code",
   "execution_count": null,
   "metadata": {},
   "outputs": [],
   "source": []
  }
 ],
 "metadata": {
  "kaggle": {
   "accelerator": "tpu1vmV38",
   "dataSources": [
    {
     "datasetId": 4143054,
     "sourceId": 7170740,
     "sourceType": "datasetVersion"
    },
    {
     "datasetId": 4143280,
     "sourceId": 7171089,
     "sourceType": "datasetVersion"
    }
   ],
   "dockerImageVersionId": 30617,
   "isGpuEnabled": false,
   "isInternetEnabled": true,
   "language": "python",
   "sourceType": "notebook"
  },
  "kernelspec": {
   "display_name": "Python 3 (ipykernel)",
   "language": "python",
   "name": "python3"
  },
  "language_info": {
   "codemirror_mode": {
    "name": "ipython",
    "version": 3
   },
   "file_extension": ".py",
   "mimetype": "text/x-python",
   "name": "python",
   "nbconvert_exporter": "python",
   "pygments_lexer": "ipython3",
   "version": "3.11.5"
  }
 },
 "nbformat": 4,
 "nbformat_minor": 4
}
